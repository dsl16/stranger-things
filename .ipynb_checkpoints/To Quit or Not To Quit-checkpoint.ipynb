{
 "cells": [
  {
   "cell_type": "markdown",
   "metadata": {},
   "source": [
    "# Hello, We Are EAA Corp.\n",
    "\n",
    "Welcome to Employee Attrition Analysis Corp! Here we're doing great work in trying to figure out why people don't like your company so much. You've hired us to figure out why everyone is leaving, and by golly, that's what we're gonna do!\n",
    "\n",
    "Thanks to this handy dandy [IBM HR Analytics dataset](https://www.kaggle.com/pavansubhasht/ibm-hr-analytics-attrition-dataset), we've got everything we need to get started."
   ]
  },
  {
   "cell_type": "markdown",
   "metadata": {},
   "source": [
    "## Part 1: Who's Quitting?! They're Fired!! (a.k.a. Initial Data Exploration)\n",
    "\n",
    "### Look at the Data\n",
    "\n",
    "Let's start by taking a peek at the data using several useful DataFrame methods:  \n",
    "    - head(): returns the first 5 rows of data  \n",
    "    - info(): provides the total number of rows, # of non-null values, and the attribute type"
   ]
  },
  {
   "cell_type": "code",
   "execution_count": 1,
   "metadata": {},
   "outputs": [
    {
     "data": {
      "text/html": [
       "<div>\n",
       "<style>\n",
       "    .dataframe thead tr:only-child th {\n",
       "        text-align: right;\n",
       "    }\n",
       "\n",
       "    .dataframe thead th {\n",
       "        text-align: left;\n",
       "    }\n",
       "\n",
       "    .dataframe tbody tr th {\n",
       "        vertical-align: top;\n",
       "    }\n",
       "</style>\n",
       "<table border=\"1\" class=\"dataframe\">\n",
       "  <thead>\n",
       "    <tr style=\"text-align: right;\">\n",
       "      <th></th>\n",
       "      <th>Age</th>\n",
       "      <th>Attrition</th>\n",
       "      <th>BusinessTravel</th>\n",
       "      <th>DailyRate</th>\n",
       "      <th>Department</th>\n",
       "      <th>DistanceFromHome</th>\n",
       "      <th>Education</th>\n",
       "      <th>EducationField</th>\n",
       "      <th>EmployeeCount</th>\n",
       "      <th>EmployeeNumber</th>\n",
       "      <th>EnvironmentSatisfaction</th>\n",
       "      <th>Gender</th>\n",
       "      <th>HourlyRate</th>\n",
       "      <th>JobInvolvement</th>\n",
       "      <th>JobLevel</th>\n",
       "      <th>JobRole</th>\n",
       "      <th>JobSatisfaction</th>\n",
       "      <th>MaritalStatus</th>\n",
       "      <th>MonthlyIncome</th>\n",
       "      <th>MonthlyRate</th>\n",
       "      <th>NumCompaniesWorked</th>\n",
       "      <th>Over18</th>\n",
       "      <th>OverTime</th>\n",
       "      <th>PercentSalaryHike</th>\n",
       "      <th>PerformanceRating</th>\n",
       "      <th>RelationshipSatisfaction</th>\n",
       "      <th>StandardHours</th>\n",
       "      <th>StockOptionLevel</th>\n",
       "      <th>TotalWorkingYears</th>\n",
       "      <th>TrainingTimesLastYear</th>\n",
       "      <th>WorkLifeBalance</th>\n",
       "      <th>YearsAtCompany</th>\n",
       "      <th>YearsInCurrentRole</th>\n",
       "      <th>YearsSinceLastPromotion</th>\n",
       "      <th>YearsWithCurrManager</th>\n",
       "    </tr>\n",
       "  </thead>\n",
       "  <tbody>\n",
       "    <tr>\n",
       "      <th>0</th>\n",
       "      <td>41</td>\n",
       "      <td>Yes</td>\n",
       "      <td>Travel_Rarely</td>\n",
       "      <td>1102</td>\n",
       "      <td>Sales</td>\n",
       "      <td>1</td>\n",
       "      <td>2</td>\n",
       "      <td>Life Sciences</td>\n",
       "      <td>1</td>\n",
       "      <td>1</td>\n",
       "      <td>2</td>\n",
       "      <td>Female</td>\n",
       "      <td>94</td>\n",
       "      <td>3</td>\n",
       "      <td>2</td>\n",
       "      <td>Sales Executive</td>\n",
       "      <td>4</td>\n",
       "      <td>Single</td>\n",
       "      <td>5993</td>\n",
       "      <td>19479</td>\n",
       "      <td>8</td>\n",
       "      <td>Y</td>\n",
       "      <td>Yes</td>\n",
       "      <td>11</td>\n",
       "      <td>3</td>\n",
       "      <td>1</td>\n",
       "      <td>80</td>\n",
       "      <td>0</td>\n",
       "      <td>8</td>\n",
       "      <td>0</td>\n",
       "      <td>1</td>\n",
       "      <td>6</td>\n",
       "      <td>4</td>\n",
       "      <td>0</td>\n",
       "      <td>5</td>\n",
       "    </tr>\n",
       "    <tr>\n",
       "      <th>1</th>\n",
       "      <td>49</td>\n",
       "      <td>No</td>\n",
       "      <td>Travel_Frequently</td>\n",
       "      <td>279</td>\n",
       "      <td>Research &amp; Development</td>\n",
       "      <td>8</td>\n",
       "      <td>1</td>\n",
       "      <td>Life Sciences</td>\n",
       "      <td>1</td>\n",
       "      <td>2</td>\n",
       "      <td>3</td>\n",
       "      <td>Male</td>\n",
       "      <td>61</td>\n",
       "      <td>2</td>\n",
       "      <td>2</td>\n",
       "      <td>Research Scientist</td>\n",
       "      <td>2</td>\n",
       "      <td>Married</td>\n",
       "      <td>5130</td>\n",
       "      <td>24907</td>\n",
       "      <td>1</td>\n",
       "      <td>Y</td>\n",
       "      <td>No</td>\n",
       "      <td>23</td>\n",
       "      <td>4</td>\n",
       "      <td>4</td>\n",
       "      <td>80</td>\n",
       "      <td>1</td>\n",
       "      <td>10</td>\n",
       "      <td>3</td>\n",
       "      <td>3</td>\n",
       "      <td>10</td>\n",
       "      <td>7</td>\n",
       "      <td>1</td>\n",
       "      <td>7</td>\n",
       "    </tr>\n",
       "    <tr>\n",
       "      <th>2</th>\n",
       "      <td>37</td>\n",
       "      <td>Yes</td>\n",
       "      <td>Travel_Rarely</td>\n",
       "      <td>1373</td>\n",
       "      <td>Research &amp; Development</td>\n",
       "      <td>2</td>\n",
       "      <td>2</td>\n",
       "      <td>Other</td>\n",
       "      <td>1</td>\n",
       "      <td>4</td>\n",
       "      <td>4</td>\n",
       "      <td>Male</td>\n",
       "      <td>92</td>\n",
       "      <td>2</td>\n",
       "      <td>1</td>\n",
       "      <td>Laboratory Technician</td>\n",
       "      <td>3</td>\n",
       "      <td>Single</td>\n",
       "      <td>2090</td>\n",
       "      <td>2396</td>\n",
       "      <td>6</td>\n",
       "      <td>Y</td>\n",
       "      <td>Yes</td>\n",
       "      <td>15</td>\n",
       "      <td>3</td>\n",
       "      <td>2</td>\n",
       "      <td>80</td>\n",
       "      <td>0</td>\n",
       "      <td>7</td>\n",
       "      <td>3</td>\n",
       "      <td>3</td>\n",
       "      <td>0</td>\n",
       "      <td>0</td>\n",
       "      <td>0</td>\n",
       "      <td>0</td>\n",
       "    </tr>\n",
       "    <tr>\n",
       "      <th>3</th>\n",
       "      <td>33</td>\n",
       "      <td>No</td>\n",
       "      <td>Travel_Frequently</td>\n",
       "      <td>1392</td>\n",
       "      <td>Research &amp; Development</td>\n",
       "      <td>3</td>\n",
       "      <td>4</td>\n",
       "      <td>Life Sciences</td>\n",
       "      <td>1</td>\n",
       "      <td>5</td>\n",
       "      <td>4</td>\n",
       "      <td>Female</td>\n",
       "      <td>56</td>\n",
       "      <td>3</td>\n",
       "      <td>1</td>\n",
       "      <td>Research Scientist</td>\n",
       "      <td>3</td>\n",
       "      <td>Married</td>\n",
       "      <td>2909</td>\n",
       "      <td>23159</td>\n",
       "      <td>1</td>\n",
       "      <td>Y</td>\n",
       "      <td>Yes</td>\n",
       "      <td>11</td>\n",
       "      <td>3</td>\n",
       "      <td>3</td>\n",
       "      <td>80</td>\n",
       "      <td>0</td>\n",
       "      <td>8</td>\n",
       "      <td>3</td>\n",
       "      <td>3</td>\n",
       "      <td>8</td>\n",
       "      <td>7</td>\n",
       "      <td>3</td>\n",
       "      <td>0</td>\n",
       "    </tr>\n",
       "    <tr>\n",
       "      <th>4</th>\n",
       "      <td>27</td>\n",
       "      <td>No</td>\n",
       "      <td>Travel_Rarely</td>\n",
       "      <td>591</td>\n",
       "      <td>Research &amp; Development</td>\n",
       "      <td>2</td>\n",
       "      <td>1</td>\n",
       "      <td>Medical</td>\n",
       "      <td>1</td>\n",
       "      <td>7</td>\n",
       "      <td>1</td>\n",
       "      <td>Male</td>\n",
       "      <td>40</td>\n",
       "      <td>3</td>\n",
       "      <td>1</td>\n",
       "      <td>Laboratory Technician</td>\n",
       "      <td>2</td>\n",
       "      <td>Married</td>\n",
       "      <td>3468</td>\n",
       "      <td>16632</td>\n",
       "      <td>9</td>\n",
       "      <td>Y</td>\n",
       "      <td>No</td>\n",
       "      <td>12</td>\n",
       "      <td>3</td>\n",
       "      <td>4</td>\n",
       "      <td>80</td>\n",
       "      <td>1</td>\n",
       "      <td>6</td>\n",
       "      <td>3</td>\n",
       "      <td>3</td>\n",
       "      <td>2</td>\n",
       "      <td>2</td>\n",
       "      <td>2</td>\n",
       "      <td>2</td>\n",
       "    </tr>\n",
       "  </tbody>\n",
       "</table>\n",
       "</div>"
      ],
      "text/plain": [
       "   Age Attrition     BusinessTravel  DailyRate              Department  \\\n",
       "0   41       Yes      Travel_Rarely       1102                   Sales   \n",
       "1   49        No  Travel_Frequently        279  Research & Development   \n",
       "2   37       Yes      Travel_Rarely       1373  Research & Development   \n",
       "3   33        No  Travel_Frequently       1392  Research & Development   \n",
       "4   27        No      Travel_Rarely        591  Research & Development   \n",
       "\n",
       "   DistanceFromHome  Education EducationField  EmployeeCount  EmployeeNumber  \\\n",
       "0                 1          2  Life Sciences              1               1   \n",
       "1                 8          1  Life Sciences              1               2   \n",
       "2                 2          2          Other              1               4   \n",
       "3                 3          4  Life Sciences              1               5   \n",
       "4                 2          1        Medical              1               7   \n",
       "\n",
       "   EnvironmentSatisfaction  Gender  HourlyRate  JobInvolvement  JobLevel  \\\n",
       "0                        2  Female          94               3         2   \n",
       "1                        3    Male          61               2         2   \n",
       "2                        4    Male          92               2         1   \n",
       "3                        4  Female          56               3         1   \n",
       "4                        1    Male          40               3         1   \n",
       "\n",
       "                 JobRole  JobSatisfaction MaritalStatus  MonthlyIncome  \\\n",
       "0        Sales Executive                4        Single           5993   \n",
       "1     Research Scientist                2       Married           5130   \n",
       "2  Laboratory Technician                3        Single           2090   \n",
       "3     Research Scientist                3       Married           2909   \n",
       "4  Laboratory Technician                2       Married           3468   \n",
       "\n",
       "   MonthlyRate  NumCompaniesWorked Over18 OverTime  PercentSalaryHike  \\\n",
       "0        19479                   8      Y      Yes                 11   \n",
       "1        24907                   1      Y       No                 23   \n",
       "2         2396                   6      Y      Yes                 15   \n",
       "3        23159                   1      Y      Yes                 11   \n",
       "4        16632                   9      Y       No                 12   \n",
       "\n",
       "   PerformanceRating  RelationshipSatisfaction  StandardHours  \\\n",
       "0                  3                         1             80   \n",
       "1                  4                         4             80   \n",
       "2                  3                         2             80   \n",
       "3                  3                         3             80   \n",
       "4                  3                         4             80   \n",
       "\n",
       "   StockOptionLevel  TotalWorkingYears  TrainingTimesLastYear  \\\n",
       "0                 0                  8                      0   \n",
       "1                 1                 10                      3   \n",
       "2                 0                  7                      3   \n",
       "3                 0                  8                      3   \n",
       "4                 1                  6                      3   \n",
       "\n",
       "   WorkLifeBalance  YearsAtCompany  YearsInCurrentRole  \\\n",
       "0                1               6                   4   \n",
       "1                3              10                   7   \n",
       "2                3               0                   0   \n",
       "3                3               8                   7   \n",
       "4                3               2                   2   \n",
       "\n",
       "   YearsSinceLastPromotion  YearsWithCurrManager  \n",
       "0                        0                     5  \n",
       "1                        1                     7  \n",
       "2                        0                     0  \n",
       "3                        3                     0  \n",
       "4                        2                     2  "
      ]
     },
     "execution_count": 1,
     "metadata": {},
     "output_type": "execute_result"
    }
   ],
   "source": [
    "import pandas as pd\n",
    "import pprint\n",
    "\n",
    "pd.set_option('display.max_columns', 50) # necessary so pandas shows all rows\n",
    "\n",
    "attrition = pd.read_csv('data/HR-Employee-Attrition.csv')\n",
    "attrition.head()"
   ]
  },
  {
   "cell_type": "code",
   "execution_count": 2,
   "metadata": {
    "scrolled": true
   },
   "outputs": [
    {
     "name": "stdout",
     "output_type": "stream",
     "text": [
      "<class 'pandas.core.frame.DataFrame'>\n",
      "RangeIndex: 1470 entries, 0 to 1469\n",
      "Data columns (total 35 columns):\n",
      "Age                         1470 non-null int64\n",
      "Attrition                   1470 non-null object\n",
      "BusinessTravel              1470 non-null object\n",
      "DailyRate                   1470 non-null int64\n",
      "Department                  1470 non-null object\n",
      "DistanceFromHome            1470 non-null int64\n",
      "Education                   1470 non-null int64\n",
      "EducationField              1470 non-null object\n",
      "EmployeeCount               1470 non-null int64\n",
      "EmployeeNumber              1470 non-null int64\n",
      "EnvironmentSatisfaction     1470 non-null int64\n",
      "Gender                      1470 non-null object\n",
      "HourlyRate                  1470 non-null int64\n",
      "JobInvolvement              1470 non-null int64\n",
      "JobLevel                    1470 non-null int64\n",
      "JobRole                     1470 non-null object\n",
      "JobSatisfaction             1470 non-null int64\n",
      "MaritalStatus               1470 non-null object\n",
      "MonthlyIncome               1470 non-null int64\n",
      "MonthlyRate                 1470 non-null int64\n",
      "NumCompaniesWorked          1470 non-null int64\n",
      "Over18                      1470 non-null object\n",
      "OverTime                    1470 non-null object\n",
      "PercentSalaryHike           1470 non-null int64\n",
      "PerformanceRating           1470 non-null int64\n",
      "RelationshipSatisfaction    1470 non-null int64\n",
      "StandardHours               1470 non-null int64\n",
      "StockOptionLevel            1470 non-null int64\n",
      "TotalWorkingYears           1470 non-null int64\n",
      "TrainingTimesLastYear       1470 non-null int64\n",
      "WorkLifeBalance             1470 non-null int64\n",
      "YearsAtCompany              1470 non-null int64\n",
      "YearsInCurrentRole          1470 non-null int64\n",
      "YearsSinceLastPromotion     1470 non-null int64\n",
      "YearsWithCurrManager        1470 non-null int64\n",
      "dtypes: int64(26), object(9)\n",
      "memory usage: 402.0+ KB\n"
     ]
    }
   ],
   "source": [
    "attrition.info()"
   ]
  },
  {
   "cell_type": "markdown",
   "metadata": {},
   "source": [
    "Luckily for us, it looks like the data is pretty clean! We know a lot about our quitters. There are 1470 values for all of the variables (as this was a generated data set, we'd expect nothing less), and there were no null values.\n",
    "\n",
    "The next thing we'll want to do is look into are our categorical variables, as well as a quick check that none of our numerical variables are actually categorial - i.e. Type 1, Type 2, Type 3 doesn't mean 1 < 2 < 3. After double checking the list, it seems all the numerical values are as they should be!\n",
    "\n",
    "### Check Data Values\n",
    "\n",
    "Now, for the categorical variables: What are their values? And how are those values distributed? We can figure this out with another simple DataFrame method:  \n",
    "    - value_counts(): counts the number of times a value appeared in a column"
   ]
  },
  {
   "cell_type": "code",
   "execution_count": 3,
   "metadata": {
    "scrolled": true
   },
   "outputs": [
    {
     "name": "stdout",
     "output_type": "stream",
     "text": [
      "Attrition\n",
      "No     1233\n",
      "Yes     237\n",
      "Name: Attrition, dtype: int64\n",
      "\n",
      "BusinessTravel\n",
      "Travel_Rarely        1043\n",
      "Travel_Frequently     277\n",
      "Non-Travel            150\n",
      "Name: BusinessTravel, dtype: int64\n",
      "\n",
      "Department\n",
      "Research & Development    961\n",
      "Sales                     446\n",
      "Human Resources            63\n",
      "Name: Department, dtype: int64\n",
      "\n",
      "EducationField\n",
      "Life Sciences       606\n",
      "Medical             464\n",
      "Marketing           159\n",
      "Technical Degree    132\n",
      "Other                82\n",
      "Human Resources      27\n",
      "Name: EducationField, dtype: int64\n",
      "\n",
      "Gender\n",
      "Male      882\n",
      "Female    588\n",
      "Name: Gender, dtype: int64\n",
      "\n",
      "JobRole\n",
      "Sales Executive              326\n",
      "Research Scientist           292\n",
      "Laboratory Technician        259\n",
      "Manufacturing Director       145\n",
      "Healthcare Representative    131\n",
      "Manager                      102\n",
      "Sales Representative          83\n",
      "Research Director             80\n",
      "Human Resources               52\n",
      "Name: JobRole, dtype: int64\n",
      "\n",
      "MaritalStatus\n",
      "Married     673\n",
      "Single      470\n",
      "Divorced    327\n",
      "Name: MaritalStatus, dtype: int64\n",
      "\n",
      "Over18\n",
      "Y    1470\n",
      "Name: Over18, dtype: int64\n",
      "\n",
      "OverTime\n",
      "No     1054\n",
      "Yes     416\n",
      "Name: OverTime, dtype: int64\n",
      "\n"
     ]
    }
   ],
   "source": [
    "for column in attrition:\n",
    "    if type(attrition[column].iloc[0]) == str:\n",
    "        print(column)\n",
    "        print(f'{attrition[column].value_counts()}\\n')\n",
    "    else:\n",
    "        pass"
   ]
  },
  {
   "cell_type": "markdown",
   "metadata": {},
   "source": [
    "Several useful things can be gleaned from this simple step:  \n",
    "  - The OverTime variable can be set as a binary 0/1 variable.\n",
    "  - The Over18 variable can be thrown out, as the entire column only has 1 value.\n",
    "  - Our Attrition variable (which is our target variable) is slightly skewed. This is important, as it could affect the performance of our model. We will come back to how to handle this later on in the notebook.\n",
    "\n",
    "We'll drop the Over18 variable now, but the rest we'll leave for our Data Cleaning step later on."
   ]
  },
  {
   "cell_type": "code",
   "execution_count": 4,
   "metadata": {
    "collapsed": true
   },
   "outputs": [],
   "source": [
    "attrition.drop('Over18',axis=1,inplace=True)"
   ]
  },
  {
   "cell_type": "markdown",
   "metadata": {},
   "source": [
    "Now, let's use the describe() method to gain a similar look into our numerical variables:\n",
    "    - describe(): provides descriptive statistics on all numerical variables in the dataset"
   ]
  },
  {
   "cell_type": "code",
   "execution_count": 5,
   "metadata": {},
   "outputs": [
    {
     "data": {
      "text/html": [
       "<div>\n",
       "<style>\n",
       "    .dataframe thead tr:only-child th {\n",
       "        text-align: right;\n",
       "    }\n",
       "\n",
       "    .dataframe thead th {\n",
       "        text-align: left;\n",
       "    }\n",
       "\n",
       "    .dataframe tbody tr th {\n",
       "        vertical-align: top;\n",
       "    }\n",
       "</style>\n",
       "<table border=\"1\" class=\"dataframe\">\n",
       "  <thead>\n",
       "    <tr style=\"text-align: right;\">\n",
       "      <th></th>\n",
       "      <th>Age</th>\n",
       "      <th>DailyRate</th>\n",
       "      <th>DistanceFromHome</th>\n",
       "      <th>Education</th>\n",
       "      <th>EmployeeCount</th>\n",
       "      <th>EmployeeNumber</th>\n",
       "      <th>EnvironmentSatisfaction</th>\n",
       "      <th>HourlyRate</th>\n",
       "      <th>JobInvolvement</th>\n",
       "      <th>JobLevel</th>\n",
       "      <th>JobSatisfaction</th>\n",
       "      <th>MonthlyIncome</th>\n",
       "      <th>MonthlyRate</th>\n",
       "      <th>NumCompaniesWorked</th>\n",
       "      <th>PercentSalaryHike</th>\n",
       "      <th>PerformanceRating</th>\n",
       "      <th>RelationshipSatisfaction</th>\n",
       "      <th>StandardHours</th>\n",
       "      <th>StockOptionLevel</th>\n",
       "      <th>TotalWorkingYears</th>\n",
       "      <th>TrainingTimesLastYear</th>\n",
       "      <th>WorkLifeBalance</th>\n",
       "      <th>YearsAtCompany</th>\n",
       "      <th>YearsInCurrentRole</th>\n",
       "      <th>YearsSinceLastPromotion</th>\n",
       "      <th>YearsWithCurrManager</th>\n",
       "    </tr>\n",
       "  </thead>\n",
       "  <tbody>\n",
       "    <tr>\n",
       "      <th>count</th>\n",
       "      <td>1470.000000</td>\n",
       "      <td>1470.000000</td>\n",
       "      <td>1470.000000</td>\n",
       "      <td>1470.000000</td>\n",
       "      <td>1470.0</td>\n",
       "      <td>1470.000000</td>\n",
       "      <td>1470.000000</td>\n",
       "      <td>1470.000000</td>\n",
       "      <td>1470.000000</td>\n",
       "      <td>1470.000000</td>\n",
       "      <td>1470.000000</td>\n",
       "      <td>1470.000000</td>\n",
       "      <td>1470.000000</td>\n",
       "      <td>1470.000000</td>\n",
       "      <td>1470.000000</td>\n",
       "      <td>1470.000000</td>\n",
       "      <td>1470.000000</td>\n",
       "      <td>1470.0</td>\n",
       "      <td>1470.000000</td>\n",
       "      <td>1470.000000</td>\n",
       "      <td>1470.000000</td>\n",
       "      <td>1470.000000</td>\n",
       "      <td>1470.000000</td>\n",
       "      <td>1470.000000</td>\n",
       "      <td>1470.000000</td>\n",
       "      <td>1470.000000</td>\n",
       "    </tr>\n",
       "    <tr>\n",
       "      <th>mean</th>\n",
       "      <td>36.923810</td>\n",
       "      <td>802.485714</td>\n",
       "      <td>9.192517</td>\n",
       "      <td>2.912925</td>\n",
       "      <td>1.0</td>\n",
       "      <td>1024.865306</td>\n",
       "      <td>2.721769</td>\n",
       "      <td>65.891156</td>\n",
       "      <td>2.729932</td>\n",
       "      <td>2.063946</td>\n",
       "      <td>2.728571</td>\n",
       "      <td>6502.931293</td>\n",
       "      <td>14313.103401</td>\n",
       "      <td>2.693197</td>\n",
       "      <td>15.209524</td>\n",
       "      <td>3.153741</td>\n",
       "      <td>2.712245</td>\n",
       "      <td>80.0</td>\n",
       "      <td>0.793878</td>\n",
       "      <td>11.279592</td>\n",
       "      <td>2.799320</td>\n",
       "      <td>2.761224</td>\n",
       "      <td>7.008163</td>\n",
       "      <td>4.229252</td>\n",
       "      <td>2.187755</td>\n",
       "      <td>4.123129</td>\n",
       "    </tr>\n",
       "    <tr>\n",
       "      <th>std</th>\n",
       "      <td>9.135373</td>\n",
       "      <td>403.509100</td>\n",
       "      <td>8.106864</td>\n",
       "      <td>1.024165</td>\n",
       "      <td>0.0</td>\n",
       "      <td>602.024335</td>\n",
       "      <td>1.093082</td>\n",
       "      <td>20.329428</td>\n",
       "      <td>0.711561</td>\n",
       "      <td>1.106940</td>\n",
       "      <td>1.102846</td>\n",
       "      <td>4707.956783</td>\n",
       "      <td>7117.786044</td>\n",
       "      <td>2.498009</td>\n",
       "      <td>3.659938</td>\n",
       "      <td>0.360824</td>\n",
       "      <td>1.081209</td>\n",
       "      <td>0.0</td>\n",
       "      <td>0.852077</td>\n",
       "      <td>7.780782</td>\n",
       "      <td>1.289271</td>\n",
       "      <td>0.706476</td>\n",
       "      <td>6.126525</td>\n",
       "      <td>3.623137</td>\n",
       "      <td>3.222430</td>\n",
       "      <td>3.568136</td>\n",
       "    </tr>\n",
       "    <tr>\n",
       "      <th>min</th>\n",
       "      <td>18.000000</td>\n",
       "      <td>102.000000</td>\n",
       "      <td>1.000000</td>\n",
       "      <td>1.000000</td>\n",
       "      <td>1.0</td>\n",
       "      <td>1.000000</td>\n",
       "      <td>1.000000</td>\n",
       "      <td>30.000000</td>\n",
       "      <td>1.000000</td>\n",
       "      <td>1.000000</td>\n",
       "      <td>1.000000</td>\n",
       "      <td>1009.000000</td>\n",
       "      <td>2094.000000</td>\n",
       "      <td>0.000000</td>\n",
       "      <td>11.000000</td>\n",
       "      <td>3.000000</td>\n",
       "      <td>1.000000</td>\n",
       "      <td>80.0</td>\n",
       "      <td>0.000000</td>\n",
       "      <td>0.000000</td>\n",
       "      <td>0.000000</td>\n",
       "      <td>1.000000</td>\n",
       "      <td>0.000000</td>\n",
       "      <td>0.000000</td>\n",
       "      <td>0.000000</td>\n",
       "      <td>0.000000</td>\n",
       "    </tr>\n",
       "    <tr>\n",
       "      <th>25%</th>\n",
       "      <td>30.000000</td>\n",
       "      <td>465.000000</td>\n",
       "      <td>2.000000</td>\n",
       "      <td>2.000000</td>\n",
       "      <td>1.0</td>\n",
       "      <td>491.250000</td>\n",
       "      <td>2.000000</td>\n",
       "      <td>48.000000</td>\n",
       "      <td>2.000000</td>\n",
       "      <td>1.000000</td>\n",
       "      <td>2.000000</td>\n",
       "      <td>2911.000000</td>\n",
       "      <td>8047.000000</td>\n",
       "      <td>1.000000</td>\n",
       "      <td>12.000000</td>\n",
       "      <td>3.000000</td>\n",
       "      <td>2.000000</td>\n",
       "      <td>80.0</td>\n",
       "      <td>0.000000</td>\n",
       "      <td>6.000000</td>\n",
       "      <td>2.000000</td>\n",
       "      <td>2.000000</td>\n",
       "      <td>3.000000</td>\n",
       "      <td>2.000000</td>\n",
       "      <td>0.000000</td>\n",
       "      <td>2.000000</td>\n",
       "    </tr>\n",
       "    <tr>\n",
       "      <th>50%</th>\n",
       "      <td>36.000000</td>\n",
       "      <td>802.000000</td>\n",
       "      <td>7.000000</td>\n",
       "      <td>3.000000</td>\n",
       "      <td>1.0</td>\n",
       "      <td>1020.500000</td>\n",
       "      <td>3.000000</td>\n",
       "      <td>66.000000</td>\n",
       "      <td>3.000000</td>\n",
       "      <td>2.000000</td>\n",
       "      <td>3.000000</td>\n",
       "      <td>4919.000000</td>\n",
       "      <td>14235.500000</td>\n",
       "      <td>2.000000</td>\n",
       "      <td>14.000000</td>\n",
       "      <td>3.000000</td>\n",
       "      <td>3.000000</td>\n",
       "      <td>80.0</td>\n",
       "      <td>1.000000</td>\n",
       "      <td>10.000000</td>\n",
       "      <td>3.000000</td>\n",
       "      <td>3.000000</td>\n",
       "      <td>5.000000</td>\n",
       "      <td>3.000000</td>\n",
       "      <td>1.000000</td>\n",
       "      <td>3.000000</td>\n",
       "    </tr>\n",
       "    <tr>\n",
       "      <th>75%</th>\n",
       "      <td>43.000000</td>\n",
       "      <td>1157.000000</td>\n",
       "      <td>14.000000</td>\n",
       "      <td>4.000000</td>\n",
       "      <td>1.0</td>\n",
       "      <td>1555.750000</td>\n",
       "      <td>4.000000</td>\n",
       "      <td>83.750000</td>\n",
       "      <td>3.000000</td>\n",
       "      <td>3.000000</td>\n",
       "      <td>4.000000</td>\n",
       "      <td>8379.000000</td>\n",
       "      <td>20461.500000</td>\n",
       "      <td>4.000000</td>\n",
       "      <td>18.000000</td>\n",
       "      <td>3.000000</td>\n",
       "      <td>4.000000</td>\n",
       "      <td>80.0</td>\n",
       "      <td>1.000000</td>\n",
       "      <td>15.000000</td>\n",
       "      <td>3.000000</td>\n",
       "      <td>3.000000</td>\n",
       "      <td>9.000000</td>\n",
       "      <td>7.000000</td>\n",
       "      <td>3.000000</td>\n",
       "      <td>7.000000</td>\n",
       "    </tr>\n",
       "    <tr>\n",
       "      <th>max</th>\n",
       "      <td>60.000000</td>\n",
       "      <td>1499.000000</td>\n",
       "      <td>29.000000</td>\n",
       "      <td>5.000000</td>\n",
       "      <td>1.0</td>\n",
       "      <td>2068.000000</td>\n",
       "      <td>4.000000</td>\n",
       "      <td>100.000000</td>\n",
       "      <td>4.000000</td>\n",
       "      <td>5.000000</td>\n",
       "      <td>4.000000</td>\n",
       "      <td>19999.000000</td>\n",
       "      <td>26999.000000</td>\n",
       "      <td>9.000000</td>\n",
       "      <td>25.000000</td>\n",
       "      <td>4.000000</td>\n",
       "      <td>4.000000</td>\n",
       "      <td>80.0</td>\n",
       "      <td>3.000000</td>\n",
       "      <td>40.000000</td>\n",
       "      <td>6.000000</td>\n",
       "      <td>4.000000</td>\n",
       "      <td>40.000000</td>\n",
       "      <td>18.000000</td>\n",
       "      <td>15.000000</td>\n",
       "      <td>17.000000</td>\n",
       "    </tr>\n",
       "  </tbody>\n",
       "</table>\n",
       "</div>"
      ],
      "text/plain": [
       "               Age    DailyRate  DistanceFromHome    Education  EmployeeCount  \\\n",
       "count  1470.000000  1470.000000       1470.000000  1470.000000         1470.0   \n",
       "mean     36.923810   802.485714          9.192517     2.912925            1.0   \n",
       "std       9.135373   403.509100          8.106864     1.024165            0.0   \n",
       "min      18.000000   102.000000          1.000000     1.000000            1.0   \n",
       "25%      30.000000   465.000000          2.000000     2.000000            1.0   \n",
       "50%      36.000000   802.000000          7.000000     3.000000            1.0   \n",
       "75%      43.000000  1157.000000         14.000000     4.000000            1.0   \n",
       "max      60.000000  1499.000000         29.000000     5.000000            1.0   \n",
       "\n",
       "       EmployeeNumber  EnvironmentSatisfaction   HourlyRate  JobInvolvement  \\\n",
       "count     1470.000000              1470.000000  1470.000000     1470.000000   \n",
       "mean      1024.865306                 2.721769    65.891156        2.729932   \n",
       "std        602.024335                 1.093082    20.329428        0.711561   \n",
       "min          1.000000                 1.000000    30.000000        1.000000   \n",
       "25%        491.250000                 2.000000    48.000000        2.000000   \n",
       "50%       1020.500000                 3.000000    66.000000        3.000000   \n",
       "75%       1555.750000                 4.000000    83.750000        3.000000   \n",
       "max       2068.000000                 4.000000   100.000000        4.000000   \n",
       "\n",
       "          JobLevel  JobSatisfaction  MonthlyIncome   MonthlyRate  \\\n",
       "count  1470.000000      1470.000000    1470.000000   1470.000000   \n",
       "mean      2.063946         2.728571    6502.931293  14313.103401   \n",
       "std       1.106940         1.102846    4707.956783   7117.786044   \n",
       "min       1.000000         1.000000    1009.000000   2094.000000   \n",
       "25%       1.000000         2.000000    2911.000000   8047.000000   \n",
       "50%       2.000000         3.000000    4919.000000  14235.500000   \n",
       "75%       3.000000         4.000000    8379.000000  20461.500000   \n",
       "max       5.000000         4.000000   19999.000000  26999.000000   \n",
       "\n",
       "       NumCompaniesWorked  PercentSalaryHike  PerformanceRating  \\\n",
       "count         1470.000000        1470.000000        1470.000000   \n",
       "mean             2.693197          15.209524           3.153741   \n",
       "std              2.498009           3.659938           0.360824   \n",
       "min              0.000000          11.000000           3.000000   \n",
       "25%              1.000000          12.000000           3.000000   \n",
       "50%              2.000000          14.000000           3.000000   \n",
       "75%              4.000000          18.000000           3.000000   \n",
       "max              9.000000          25.000000           4.000000   \n",
       "\n",
       "       RelationshipSatisfaction  StandardHours  StockOptionLevel  \\\n",
       "count               1470.000000         1470.0       1470.000000   \n",
       "mean                   2.712245           80.0          0.793878   \n",
       "std                    1.081209            0.0          0.852077   \n",
       "min                    1.000000           80.0          0.000000   \n",
       "25%                    2.000000           80.0          0.000000   \n",
       "50%                    3.000000           80.0          1.000000   \n",
       "75%                    4.000000           80.0          1.000000   \n",
       "max                    4.000000           80.0          3.000000   \n",
       "\n",
       "       TotalWorkingYears  TrainingTimesLastYear  WorkLifeBalance  \\\n",
       "count        1470.000000            1470.000000      1470.000000   \n",
       "mean           11.279592               2.799320         2.761224   \n",
       "std             7.780782               1.289271         0.706476   \n",
       "min             0.000000               0.000000         1.000000   \n",
       "25%             6.000000               2.000000         2.000000   \n",
       "50%            10.000000               3.000000         3.000000   \n",
       "75%            15.000000               3.000000         3.000000   \n",
       "max            40.000000               6.000000         4.000000   \n",
       "\n",
       "       YearsAtCompany  YearsInCurrentRole  YearsSinceLastPromotion  \\\n",
       "count     1470.000000         1470.000000              1470.000000   \n",
       "mean         7.008163            4.229252                 2.187755   \n",
       "std          6.126525            3.623137                 3.222430   \n",
       "min          0.000000            0.000000                 0.000000   \n",
       "25%          3.000000            2.000000                 0.000000   \n",
       "50%          5.000000            3.000000                 1.000000   \n",
       "75%          9.000000            7.000000                 3.000000   \n",
       "max         40.000000           18.000000                15.000000   \n",
       "\n",
       "       YearsWithCurrManager  \n",
       "count           1470.000000  \n",
       "mean               4.123129  \n",
       "std                3.568136  \n",
       "min                0.000000  \n",
       "25%                2.000000  \n",
       "50%                3.000000  \n",
       "75%                7.000000  \n",
       "max               17.000000  "
      ]
     },
     "execution_count": 5,
     "metadata": {},
     "output_type": "execute_result"
    }
   ],
   "source": [
    "attrition.describe()"
   ]
  },
  {
   "cell_type": "markdown",
   "metadata": {},
   "source": [
    "We notice a few more useful things from this step:\n",
    "- EmployeeCount has a std of 0, meaning every value is the same. Time to drop it!\n",
    "- StandardHours has the same problem: every value is 80. Drop it!\n",
    "\n",
    "In case you're wondering why dropping columns is a good thing - in general, we want to remove as many useless, unhelpful columns as possible. This reduces the noise in the dataset. Having these useless rows is sort of like trying to listen to someone in a noisy crowd. You can do it, but it's easier if all those people not relevant to the conversation were gone."
   ]
  },
  {
   "cell_type": "code",
   "execution_count": 6,
   "metadata": {
    "collapsed": true
   },
   "outputs": [],
   "source": [
    "attrition.drop(['EmployeeCount','StandardHours'],axis=1,inplace=True)"
   ]
  },
  {
   "cell_type": "markdown",
   "metadata": {},
   "source": [
    "And finally, let's use a histogram to get a better feel for the counts in the data."
   ]
  },
  {
   "cell_type": "code",
   "execution_count": 7,
   "metadata": {
    "scrolled": false
   },
   "outputs": [
    {
     "data": {
      "image/png": "[encoded data removed]",
      "text/plain": [
       "<matplotlib.figure.Figure at 0x2cc6b50bb00>"
      ]
     },
     "metadata": {},
     "output_type": "display_data"
    }
   ],
   "source": [
    "%matplotlib inline\n",
    "import matplotlib.pyplot as plt\n",
    "attrition.hist(bins=50, figsize=(20,15))\n",
    "plt.show()"
   ]
  },
  {
   "cell_type": "markdown",
   "metadata": {},
   "source": [
    "Histograms provide us with a great visualization into the distributions of the variables. In particular, some of these variables are tail-heavy, meaning they have long lists of low-count values stretching to the right. DistanceFromHome is a good example, as is YearsAtCompany. Some ML algorithms perform poorly with non-normal distributions of data, so we'll dig into potential transformations for these distributions later."
   ]
  },
  {
   "cell_type": "markdown",
   "metadata": {},
   "source": [
    "## Part 2: No Peeking! HR Only. (i.e. Create a Test Set)\n",
    "\n",
    "### Why Have a Test Set?\n",
    "\n",
    "A test set is an integral part of creating an effective model - without it, you won't have a good estimate of how your model will perform in real life.\n",
    "\n",
    "### Can't Split Out Test Data at the End?\n",
    "\n",
    "Well, no. We've done a preliminary check on what the data looks like, so we need to set aside some test data __now__. \"Why so soon?\" you whine. Well, the reason is simple: your brain is great at finding patterns. So great, in fact, that looking at some test data could bias you as to what kind of Machine Learning model to test. \n",
    "\n",
    "\"Oh, this type of model would fit this test data great!\" you could think, if I let you look at the test data. This is called _data snooping_ bias, and it causes your model to do better on the test set than it would in real life. That's bad. No snooping. \n",
    "\n",
    "### Isolate Your Test Set. Like Really. Really, Really Isolate It.\n",
    "\n",
    "So, how do we choose a test set? First, we need to make sure that once we choose our test samples _we never touch them again until the end of the model creation process_. This means that regardless of updates to the data, starting and restarting the kernel, or anything else, those samples should be __untouchable__. \n",
    "\n",
    "Lucky for us IBM provided us with a handy EmployeeNumber! We can check whether it really is a unique identifier like so:"
   ]
  },
  {
   "cell_type": "code",
   "execution_count": 8,
   "metadata": {},
   "outputs": [
    {
     "data": {
      "text/plain": [
       "1470"
      ]
     },
     "execution_count": 8,
     "metadata": {},
     "output_type": "execute_result"
    }
   ],
   "source": [
    "attrition.EmployeeNumber.nunique()"
   ]
  },
  {
   "cell_type": "markdown",
   "metadata": {},
   "source": [
    "There are 1470 data points and 1470 unique EmployeeNumbers. Perfect! Now, all we have to do is sample the data for our test set, and put those identified employees under lock and key till we've finished our model building and selection process.\n",
    "\n",
    "### Sampling the Data\n",
    "\n",
    "There are two primary ways we could go about sampling the data:\n",
    "- __Random sampling__: Choose the test set samples completely randomly. Super easy. Could also lead to a skewed sample.\n",
    "- __Stratified sampling__: Choose the test set samples after splitting the data into _strata_ and ensuring the right number of samples is chosen from each stratum to provide a _representative sample_.\n",
    "\n",
    "For now, let's assume that experts have told us that DistanceFromHome is an important attribute in predicting attrition. We'll want to ensure that the test set is representative of the various categories of distances in the dataset.\n",
    "\n",
    "To do that we'll create a DistanceFromHomeCat variable that splits the data up into buckets by distance, then use sklearn's StratifiedShuffleSplit class to split the data into a training and representative test set.\n",
    "\n",
    "Then, we'll do a random splitting with sklearn's train_test_split method to see the difference in distribution."
   ]
  },
  {
   "cell_type": "code",
   "execution_count": 9,
   "metadata": {},
   "outputs": [
    {
     "data": {
      "image/png": "[encoded data removed]",
      "text/plain": [
       "<matplotlib.figure.Figure at 0x2cc6b4bbe10>"
      ]
     },
     "metadata": {},
     "output_type": "display_data"
    }
   ],
   "source": [
    "import numpy as np\n",
    "\n",
    "attrition['DistanceFromHomeCat'] = np.ceil(attrition['DistanceFromHome'] / 5)\n",
    "fig1 = plt.figure(1,figsize=(8,7))\n",
    "fig1.add_subplot(211)\n",
    "ax = attrition['DistanceFromHomeCat'].hist()\n",
    "ax.set_title('DistanceFromHomeCat Histogram')\n",
    "fig1.add_subplot(212)\n",
    "ax = attrition['DistanceFromHome'].hist()\n",
    "ax.set_title('DistanceFromHome Histogram')\n",
    "plt.show()"
   ]
  },
  {
   "cell_type": "code",
   "execution_count": 10,
   "metadata": {},
   "outputs": [
    {
     "data": {
      "text/html": [
       "<div>\n",
       "<style>\n",
       "    .dataframe thead tr:only-child th {\n",
       "        text-align: right;\n",
       "    }\n",
       "\n",
       "    .dataframe thead th {\n",
       "        text-align: left;\n",
       "    }\n",
       "\n",
       "    .dataframe tbody tr th {\n",
       "        vertical-align: top;\n",
       "    }\n",
       "</style>\n",
       "<table border=\"1\" class=\"dataframe\">\n",
       "  <thead>\n",
       "    <tr style=\"text-align: right;\">\n",
       "      <th></th>\n",
       "      <th>Overall</th>\n",
       "      <th>Rand % Error</th>\n",
       "      <th>Random</th>\n",
       "      <th>Strat % Error</th>\n",
       "      <th>Stratified</th>\n",
       "    </tr>\n",
       "  </thead>\n",
       "  <tbody>\n",
       "    <tr>\n",
       "      <th>1.0</th>\n",
       "      <td>0.429932</td>\n",
       "      <td>-1.265823</td>\n",
       "      <td>0.435374</td>\n",
       "      <td>0.316456</td>\n",
       "      <td>0.428571</td>\n",
       "    </tr>\n",
       "    <tr>\n",
       "      <th>2.0</th>\n",
       "      <td>0.268027</td>\n",
       "      <td>-1.522843</td>\n",
       "      <td>0.272109</td>\n",
       "      <td>-0.253807</td>\n",
       "      <td>0.268707</td>\n",
       "    </tr>\n",
       "    <tr>\n",
       "      <th>4.0</th>\n",
       "      <td>0.085034</td>\n",
       "      <td>0.000000</td>\n",
       "      <td>0.085034</td>\n",
       "      <td>0.000000</td>\n",
       "      <td>0.085034</td>\n",
       "    </tr>\n",
       "    <tr>\n",
       "      <th>5.0</th>\n",
       "      <td>0.079592</td>\n",
       "      <td>-2.564103</td>\n",
       "      <td>0.081633</td>\n",
       "      <td>-2.564103</td>\n",
       "      <td>0.081633</td>\n",
       "    </tr>\n",
       "    <tr>\n",
       "      <th>3.0</th>\n",
       "      <td>0.078231</td>\n",
       "      <td>-4.347826</td>\n",
       "      <td>0.081633</td>\n",
       "      <td>0.000000</td>\n",
       "      <td>0.078231</td>\n",
       "    </tr>\n",
       "    <tr>\n",
       "      <th>6.0</th>\n",
       "      <td>0.059184</td>\n",
       "      <td>25.287356</td>\n",
       "      <td>0.044218</td>\n",
       "      <td>2.298851</td>\n",
       "      <td>0.057823</td>\n",
       "    </tr>\n",
       "  </tbody>\n",
       "</table>\n",
       "</div>"
      ],
      "text/plain": [
       "      Overall  Rand % Error    Random  Strat % Error  Stratified\n",
       "1.0  0.429932     -1.265823  0.435374       0.316456    0.428571\n",
       "2.0  0.268027     -1.522843  0.272109      -0.253807    0.268707\n",
       "4.0  0.085034      0.000000  0.085034       0.000000    0.085034\n",
       "5.0  0.079592     -2.564103  0.081633      -2.564103    0.081633\n",
       "3.0  0.078231     -4.347826  0.081633       0.000000    0.078231\n",
       "6.0  0.059184     25.287356  0.044218       2.298851    0.057823"
      ]
     },
     "metadata": {},
     "output_type": "display_data"
    }
   ],
   "source": [
    "from sklearn.model_selection import StratifiedShuffleSplit \n",
    "from sklearn.model_selection import train_test_split\n",
    "from IPython.display import display\n",
    "\n",
    "split = StratifiedShuffleSplit(n_splits=1, test_size=0.2, random_state=42)\n",
    "for train_index, test_index in split.split(attrition, attrition['DistanceFromHomeCat']):\n",
    "    strat_train_set = attrition.loc[train_index]\n",
    "    strat_test_set = attrition.loc[test_index]\n",
    "\n",
    "random_train_set, random_test_set = train_test_split(attrition, test_size=0.2, random_state=42)\n",
    "\n",
    "overall_distr = attrition['DistanceFromHomeCat'].value_counts() / len(attrition)\n",
    "random_test_distr = random_test_set['DistanceFromHomeCat'].value_counts() / len(random_test_set)\n",
    "strat_test_distr = strat_test_set['DistanceFromHomeCat'].value_counts() / len(strat_test_set)\n",
    "\n",
    "display(pd.DataFrame({'Overall': overall_distr,\n",
    "                      'Random': random_test_distr,\n",
    "                      'Stratified': strat_test_distr,\n",
    "                      'Rand % Error': 100 * (overall_distr - random_test_distr) / overall_distr,\n",
    "                      'Strat % Error': 100 * (overall_distr - strat_test_distr) / overall_distr}))"
   ]
  },
  {
   "cell_type": "markdown",
   "metadata": {},
   "source": [
    "As you can see, the stratified dataset always has at least as good a distribution as the random state - and in the case of category 6, a much better representative sample than the random sampling.\n",
    "\n",
    "Now let's take out the DistanceFromHomeCat we created to put the data back to how it was."
   ]
  },
  {
   "cell_type": "code",
   "execution_count": 11,
   "metadata": {
    "collapsed": true
   },
   "outputs": [],
   "source": [
    "for set_ in (strat_train_set, strat_test_set):\n",
    "    set_.drop('DistanceFromHomeCat', axis=1, inplace=True)"
   ]
  },
  {
   "cell_type": "markdown",
   "metadata": {},
   "source": [
    "## Part 3: What Do We Have Here? (i.e. Data Discovery & Visualization)\n",
    "\n",
    "Now it's time for us to play with our dataset, do some simple visualizations, and generally build some intuition around what kinds of models we should use/what hypotheses seem most likely.\n",
    "\n",
    "Let's start by making a copy of our data so we can mess around without harming the training set."
   ]
  },
  {
   "cell_type": "code",
   "execution_count": 12,
   "metadata": {},
   "outputs": [
    {
     "data": {
      "text/plain": [
       "Index(['Age', 'Attrition', 'BusinessTravel', 'DailyRate', 'Department',\n",
       "       'DistanceFromHome', 'Education', 'EducationField', 'EmployeeNumber',\n",
       "       'EnvironmentSatisfaction', 'Gender', 'HourlyRate', 'JobInvolvement',\n",
       "       'JobLevel', 'JobRole', 'JobSatisfaction', 'MaritalStatus',\n",
       "       'MonthlyIncome', 'MonthlyRate', 'NumCompaniesWorked', 'OverTime',\n",
       "       'PercentSalaryHike', 'PerformanceRating', 'RelationshipSatisfaction',\n",
       "       'StockOptionLevel', 'TotalWorkingYears', 'TrainingTimesLastYear',\n",
       "       'WorkLifeBalance', 'YearsAtCompany', 'YearsInCurrentRole',\n",
       "       'YearsSinceLastPromotion', 'YearsWithCurrManager'],\n",
       "      dtype='object')"
      ]
     },
     "execution_count": 12,
     "metadata": {},
     "output_type": "execute_result"
    }
   ],
   "source": [
    "play_set = strat_train_set.copy()\n",
    "play_set.columns"
   ]
  },
  {
   "cell_type": "markdown",
   "metadata": {},
   "source": [
    "### Handling Multicollinearity\n",
    "\n",
    "One important problem to handle is that of multicollinearity. Put simply, multicollinearity is when 2 predictor variables are highly correlated. \n",
    "\n",
    "Understanding why this is a problem is a bit more in depth, but for now it's enough to understand that correlated predictor variables can 'get in the way' of each other and other predictor variables. As [this blog post explains](http://blog.minitab.com/blog/understanding-statistics/handling-multicollinearity-in-regression-analysis), it's sort of like having three people tackling a quarterback at the same time - you're not exactly sure who to give credit to.\n",
    "\n",
    "Similarly, a model with correlated predictor variables doesn't know which variable to give credit to. That's a simplistic explanation, but it'll have to do for now!\n",
    "\n",
    "Let's look at our highly correlated variables first."
   ]
  },
  {
   "cell_type": "code",
   "execution_count": 13,
   "metadata": {
    "scrolled": true
   },
   "outputs": [
    {
     "name": "stdout",
     "output_type": "stream",
     "text": [
      "[('JobLevel', 'MonthlyIncome', 0.95071304487711628),\n",
      " ('MonthlyIncome', 'JobLevel', 0.95071304487711628),\n",
      " ('JobLevel', 'TotalWorkingYears', 0.78456364572136272),\n",
      " ('TotalWorkingYears', 'JobLevel', 0.78456364572136272),\n",
      " ('MonthlyIncome', 'TotalWorkingYears', 0.77510309847919767),\n",
      " ('TotalWorkingYears', 'MonthlyIncome', 0.77510309847919767),\n",
      " ('YearsAtCompany', 'YearsWithCurrManager', 0.77081421865619515),\n",
      " ('YearsWithCurrManager', 'YearsAtCompany', 0.77081421865619515),\n",
      " ('PercentSalaryHike', 'PerformanceRating', 0.77063879497019194),\n",
      " ('PerformanceRating', 'PercentSalaryHike', 0.77063879497019194),\n",
      " ('YearsAtCompany', 'YearsInCurrentRole', 0.75624613647079331),\n",
      " ('YearsInCurrentRole', 'YearsAtCompany', 0.75624613647079331),\n",
      " ('YearsInCurrentRole', 'YearsWithCurrManager', 0.72603978730156893),\n",
      " ('YearsWithCurrManager', 'YearsInCurrentRole', 0.72603978730156893),\n",
      " ('Age', 'TotalWorkingYears', 0.67974878176850007),\n",
      " ('TotalWorkingYears', 'Age', 0.67974878176850007),\n",
      " ('TotalWorkingYears', 'YearsAtCompany', 0.62521320838085637),\n",
      " ('YearsAtCompany', 'TotalWorkingYears', 0.62521320838085637),\n",
      " ('YearsAtCompany', 'YearsSinceLastPromotion', 0.59626671420426125),\n",
      " ('YearsSinceLastPromotion', 'YearsAtCompany', 0.59626671420426125),\n",
      " ('YearsInCurrentRole', 'YearsSinceLastPromotion', 0.55843295222755007),\n",
      " ('YearsSinceLastPromotion', 'YearsInCurrentRole', 0.55843295222755007),\n",
      " ('JobLevel', 'YearsAtCompany', 0.5277774690983652),\n",
      " ('YearsAtCompany', 'JobLevel', 0.5277774690983652),\n",
      " ('MonthlyIncome', 'YearsAtCompany', 0.50814746797805976),\n",
      " ('YearsAtCompany', 'MonthlyIncome', 0.50814746797805976),\n",
      " ('Age', 'JobLevel', 0.49859236642887245),\n",
      " ('JobLevel', 'Age', 0.49859236642887245),\n",
      " ('YearsSinceLastPromotion', 'YearsWithCurrManager', 0.49819307491984999),\n",
      " ('YearsWithCurrManager', 'YearsSinceLastPromotion', 0.49819307491984999),\n",
      " ('Age', 'MonthlyIncome', 0.48566695136255023),\n",
      " ('MonthlyIncome', 'Age', 0.48566695136255023),\n",
      " ('TotalWorkingYears', 'YearsInCurrentRole', 0.45452315470190569),\n",
      " ('YearsInCurrentRole', 'TotalWorkingYears', 0.45452315470190569),\n",
      " ('TotalWorkingYears', 'YearsWithCurrManager', 0.44866370834633085),\n",
      " ('YearsWithCurrManager', 'TotalWorkingYears', 0.44866370834633085)]\n"
     ]
    }
   ],
   "source": [
    "# calculate a correlation matrix\n",
    "corr_matrix = play_set.corr()\n",
    "\n",
    "# select and print only highly correlated pairs of variables\n",
    "highly_corr = []\n",
    "for var in corr_matrix:\n",
    "    for var2 in corr_matrix[var].index:\n",
    "        if (corr_matrix.loc[var,var2] > 0.4) and (var != var2):\n",
    "            highly_corr.append((var,var2,corr_matrix.loc[var,var2]))\n",
    "        else:\n",
    "            pass\n",
    "pprint.pprint(sorted(highly_corr, key=lambda x: x[2], reverse=True))"
   ]
  },
  {
   "cell_type": "markdown",
   "metadata": {},
   "source": [
    "Here, I've filtered out variables with correlations less than 0.4. There are still a lot of variables that are correlated! JobLevel and MonthlyIncome, TotalWorkingYears and JobLevel, PerformanceRating and PercentSalaryHike. All of these make clear intuitive sense. \n",
    "\n",
    "More exact methods of removing correlated variables are outside the scope of this notebook, so for now, we're just going to remove variables so we have no correlations greater than 0.8. \n",
    "\n",
    "This means we'll be dropping either JobLevel or MonthlyIncome. Since they're so highly correlated, it likely doesn't matter which, but I'm going to choose JobLevel."
   ]
  },
  {
   "cell_type": "code",
   "execution_count": 14,
   "metadata": {
    "collapsed": true
   },
   "outputs": [],
   "source": [
    "play_set.drop('JobLevel',axis=1,inplace=True)\n",
    "strat_train_set.drop('JobLevel',axis=1,inplace=True)\n",
    "strat_test_set.drop('JobLevel',axis=1,inplace=True)"
   ]
  },
  {
   "cell_type": "markdown",
   "metadata": {},
   "source": [
    "We can also make some nifty visualizations with correlation, although with so many variables, it can be hard to understand what's happening.\n",
    "\n",
    "We'll select just a few to get a better grasp of things."
   ]
  },
  {
   "cell_type": "code",
   "execution_count": 15,
   "metadata": {},
   "outputs": [
    {
     "data": {
      "text/plain": [
       "<matplotlib.text.Text at 0x2cc704f4c88>"
      ]
     },
     "execution_count": 15,
     "metadata": {},
     "output_type": "execute_result"
    },
    {
     "data": {
      "image/png": "[encoded data removed]",
      "text/plain": [
       "<matplotlib.figure.Figure at 0x2cc6f761a58>"
      ]
     },
     "metadata": {},
     "output_type": "display_data"
    }
   ],
   "source": [
    "import seaborn as sns\n",
    "\n",
    "# calculate correlation matrix\n",
    "labels = ['Age','MonthlyIncome','TotalWorkingYears','DistanceFromHome','EnvironmentSatisfaction']\n",
    "corr = play_set[labels].corr()\n",
    "\n",
    "# plot a heatmap\n",
    "ax = plt.axes()\n",
    "sns.heatmap(corr)\n",
    "ax.set_title('A Heatmap of Correlations')"
   ]
  },
  {
   "cell_type": "markdown",
   "metadata": {},
   "source": [
    "### Experimenting with Attribute Combinations\n",
    "\n",
    "# Add a random attribute combination and test with point biserial correlation. Then proceed to explain why it is necessary and different than df.corr()\n",
    "\n",
    "In regression problems, we can perform some simple attribute combinations (MonthlyIncome / HourlyRate to get hours worked, for example) and test if they are highly correlated with the target variable. This works because the basic assumption of a linear model is what we've set out to test.\n",
    "\n",
    "For classification problems, however, things are slightly more complicated. Linear correlation isn't meant to predict on binary (0/1) variables. There are ways of calculating '\n",
    "\n",
    "Both for the convenience of this notebook, and because there aren't many combinations that would be more useful that the variables we have, we'll skip this step for now."
   ]
  },
  {
   "cell_type": "markdown",
   "metadata": {},
   "source": [
    "# insert code here about bipointserial correlation\n",
    "https://en.wikipedia.org/wiki/Point-biserial_correlation_coefficient\n",
    "https://stackoverflow.com/questions/29021380/is-there-a-way-to-test-correlation-between-data-x-and-binary-output-y"
   ]
  },
  {
   "cell_type": "markdown",
   "metadata": {},
   "source": [
    "## Part 4: Aim...Fire (Everyone)! (i.e. Preparing the Data for ML Algorithms)\n",
    "\n",
    "It's finally time to prepare the data for our ML algorithms! To begin with, we'll lay out a useful principle that will come in handy and allow you to build up a library of useful tools:\n",
    "  - __Turn your data transformations into reusable functions.__  \n",
    " \n",
    "You'll be performing many data transformations over time, so turn them into functions so you can easily plug and play different ones. Plus, at the end of it all, you'll have a whole set of tools at your disposal from your many different projects.\n",
    "\n",
    "And remember: __fit all your transformations on your training set only__, not the full dataset. Only then can you use them to transform the full dataset (and new data).\n",
    "\n",
    "To start, let's split the data into predictors and target, since we may not want to perform the same transformations in the predictors as the target variable."
   ]
  },
  {
   "cell_type": "code",
   "execution_count": 108,
   "metadata": {
    "collapsed": true
   },
   "outputs": [],
   "source": [
    "predictors = strat_train_set.drop('Attrition',axis=1)\n",
    "target = strat_train_set['Attrition'].copy()"
   ]
  },
  {
   "cell_type": "markdown",
   "metadata": {},
   "source": [
    "### Data Cleaning\n",
    "  \n",
    "If your data is missing values, there are typically 2 ways to handle those values:  \n",
    "1) Drop the rows  \n",
    "2) Fill in the rows with some value, typically the median value of the dataset  \n",
    "\n",
    "Pandas DataFrames have a number of quite useful functions built specifically for this purpose."
   ]
  },
  {
   "cell_type": "code",
   "execution_count": 109,
   "metadata": {
    "collapsed": true
   },
   "outputs": [],
   "source": [
    "predictors.dropna(subset=['Age'])\n",
    "predictors.drop('Age',axis=1)\n",
    "median = predictors['Age'].median()\n",
    "predictors['Age'].fillna(median, inplace=True)"
   ]
  },
  {
   "cell_type": "code",
   "execution_count": 110,
   "metadata": {},
   "outputs": [
    {
     "data": {
      "text/html": [
       "<div>\n",
       "<style>\n",
       "    .dataframe thead tr:only-child th {\n",
       "        text-align: right;\n",
       "    }\n",
       "\n",
       "    .dataframe thead th {\n",
       "        text-align: left;\n",
       "    }\n",
       "\n",
       "    .dataframe tbody tr th {\n",
       "        vertical-align: top;\n",
       "    }\n",
       "</style>\n",
       "<table border=\"1\" class=\"dataframe\">\n",
       "  <thead>\n",
       "    <tr style=\"text-align: right;\">\n",
       "      <th></th>\n",
       "      <th>Age</th>\n",
       "      <th>DistanceFromHome</th>\n",
       "    </tr>\n",
       "  </thead>\n",
       "  <tbody>\n",
       "    <tr>\n",
       "      <th>1197</th>\n",
       "      <td>20.0</td>\n",
       "      <td>9.0</td>\n",
       "    </tr>\n",
       "    <tr>\n",
       "      <th>845</th>\n",
       "      <td>40.0</td>\n",
       "      <td>26.0</td>\n",
       "    </tr>\n",
       "    <tr>\n",
       "      <th>590</th>\n",
       "      <td>33.0</td>\n",
       "      <td>7.0</td>\n",
       "    </tr>\n",
       "    <tr>\n",
       "      <th>1065</th>\n",
       "      <td>55.0</td>\n",
       "      <td>4.0</td>\n",
       "    </tr>\n",
       "    <tr>\n",
       "      <th>467</th>\n",
       "      <td>NaN</td>\n",
       "      <td>NaN</td>\n",
       "    </tr>\n",
       "  </tbody>\n",
       "</table>\n",
       "</div>"
      ],
      "text/plain": [
       "       Age  DistanceFromHome\n",
       "1197  20.0               9.0\n",
       "845   40.0              26.0\n",
       "590   33.0               7.0\n",
       "1065  55.0               4.0\n",
       "467    NaN               NaN"
      ]
     },
     "metadata": {},
     "output_type": "display_data"
    },
    {
     "data": {
      "text/plain": [
       "Imputer(axis=0, copy=True, missing_values='NaN', strategy='median', verbose=0)"
      ]
     },
     "execution_count": 110,
     "metadata": {},
     "output_type": "execute_result"
    }
   ],
   "source": [
    "from sklearn.preprocessing import Imputer\n",
    "\n",
    "imputer = Imputer(strategy='median')\n",
    "\n",
    "unclean_data = predictors[['Age','DistanceFromHome']].copy()\n",
    "unclean_data.iloc[4,:] = [np.nan,np.nan]\n",
    "display(unclean_data.head())\n",
    "imputer.fit(predictors[['Age','DistanceFromHome']])"
   ]
  },
  {
   "cell_type": "code",
   "execution_count": 111,
   "metadata": {},
   "outputs": [
    {
     "data": {
      "text/plain": [
       "array([ 36.,   7.])"
      ]
     },
     "execution_count": 111,
     "metadata": {},
     "output_type": "execute_result"
    }
   ],
   "source": [
    "imputer.statistics_"
   ]
  },
  {
   "cell_type": "code",
   "execution_count": 112,
   "metadata": {},
   "outputs": [
    {
     "data": {
      "text/plain": [
       "Age                 36.0\n",
       "DistanceFromHome     7.0\n",
       "dtype: float64"
      ]
     },
     "execution_count": 112,
     "metadata": {},
     "output_type": "execute_result"
    }
   ],
   "source": [
    "unclean_data.median()"
   ]
  },
  {
   "cell_type": "code",
   "execution_count": 113,
   "metadata": {},
   "outputs": [
    {
     "data": {
      "text/html": [
       "<div>\n",
       "<style>\n",
       "    .dataframe thead tr:only-child th {\n",
       "        text-align: right;\n",
       "    }\n",
       "\n",
       "    .dataframe thead th {\n",
       "        text-align: left;\n",
       "    }\n",
       "\n",
       "    .dataframe tbody tr th {\n",
       "        vertical-align: top;\n",
       "    }\n",
       "</style>\n",
       "<table border=\"1\" class=\"dataframe\">\n",
       "  <thead>\n",
       "    <tr style=\"text-align: right;\">\n",
       "      <th></th>\n",
       "      <th>Age</th>\n",
       "      <th>DistanceFromHome</th>\n",
       "    </tr>\n",
       "  </thead>\n",
       "  <tbody>\n",
       "    <tr>\n",
       "      <th>0</th>\n",
       "      <td>20.0</td>\n",
       "      <td>9.0</td>\n",
       "    </tr>\n",
       "    <tr>\n",
       "      <th>1</th>\n",
       "      <td>40.0</td>\n",
       "      <td>26.0</td>\n",
       "    </tr>\n",
       "    <tr>\n",
       "      <th>2</th>\n",
       "      <td>33.0</td>\n",
       "      <td>7.0</td>\n",
       "    </tr>\n",
       "    <tr>\n",
       "      <th>3</th>\n",
       "      <td>55.0</td>\n",
       "      <td>4.0</td>\n",
       "    </tr>\n",
       "    <tr>\n",
       "      <th>4</th>\n",
       "      <td>37.0</td>\n",
       "      <td>9.0</td>\n",
       "    </tr>\n",
       "  </tbody>\n",
       "</table>\n",
       "</div>"
      ],
      "text/plain": [
       "    Age  DistanceFromHome\n",
       "0  20.0               9.0\n",
       "1  40.0              26.0\n",
       "2  33.0               7.0\n",
       "3  55.0               4.0\n",
       "4  37.0               9.0"
      ]
     },
     "metadata": {},
     "output_type": "display_data"
    }
   ],
   "source": [
    "X = imputer.transform(predictors[['Age','DistanceFromHome']])\n",
    "clean_predictors = pd.DataFrame(X, columns = ['Age','DistanceFromHome'])\n",
    "\n",
    "display(clean_predictors.head())"
   ]
  },
  {
   "cell_type": "markdown",
   "metadata": {},
   "source": [
    "### Handling Text and Categorical Attributes\n"
   ]
  },
  {
   "cell_type": "code",
   "execution_count": 114,
   "metadata": {},
   "outputs": [
    {
     "data": {
      "text/plain": [
       "array([2, 1, 1, ..., 1, 2, 2], dtype=int64)"
      ]
     },
     "metadata": {},
     "output_type": "display_data"
    }
   ],
   "source": [
    "from sklearn.preprocessing import LabelEncoder, OneHotEncoder\n",
    "\n",
    "encoder = LabelEncoder()\n",
    "cat_data = predictors['Department']\n",
    "cat_data_encoded = encoder.fit_transform(cat_data)\n",
    "display(cat_data_encoded)"
   ]
  },
  {
   "cell_type": "code",
   "execution_count": 115,
   "metadata": {},
   "outputs": [
    {
     "data": {
      "text/plain": [
       "array(['Human Resources', 'Research & Development', 'Sales'], dtype=object)"
      ]
     },
     "execution_count": 115,
     "metadata": {},
     "output_type": "execute_result"
    }
   ],
   "source": [
    "encoder.classes_"
   ]
  },
  {
   "cell_type": "code",
   "execution_count": 116,
   "metadata": {
    "scrolled": true
   },
   "outputs": [
    {
     "name": "stdout",
     "output_type": "stream",
     "text": [
      "  (0, 2)\t1.0\n",
      "  (1, 1)\t1.0\n",
      "  (2, 1)\t1.0\n",
      "  (3, 1)\t1.0\n",
      "  (4, 2)\t1.0\n",
      "  (5, 1)\t1.0\n",
      "  (6, 2)\t1.0\n",
      "  (7, 1)\t1.0\n",
      "  (8, 1)\t1.0\n",
      "  (9, 1)\t1.0\n",
      "  (10, 1)\t1.0\n",
      "  (11, 2)\t1.0\n",
      "  (12, 1)\t1.0\n",
      "  (13, 2)\t1.0\n",
      "  (14, 1)\t1.0\n",
      "  (15, 1)\t1.0\n",
      "  (16, 2)\t1.0\n",
      "  (17, 1)\t1.0\n",
      "  (18, 1)\t1.0\n",
      "  (19, 2)\t1.0\n",
      "  (20, 2)\t1.0\n",
      "  (21, 1)\t1.0\n",
      "  (22, 1)\t1.0\n",
      "  (23, 1)\t1.0\n",
      "  (24, 1)\t1.0\n",
      "  :\t:\n",
      "  (1151, 2)\t1.0\n",
      "  (1152, 2)\t1.0\n",
      "  (1153, 1)\t1.0\n",
      "  (1154, 1)\t1.0\n",
      "  (1155, 2)\t1.0\n",
      "  (1156, 1)\t1.0\n",
      "  (1157, 1)\t1.0\n",
      "  (1158, 2)\t1.0\n",
      "  (1159, 2)\t1.0\n",
      "  (1160, 1)\t1.0\n",
      "  (1161, 1)\t1.0\n",
      "  (1162, 1)\t1.0\n",
      "  (1163, 1)\t1.0\n",
      "  (1164, 1)\t1.0\n",
      "  (1165, 2)\t1.0\n",
      "  (1166, 2)\t1.0\n",
      "  (1167, 1)\t1.0\n",
      "  (1168, 2)\t1.0\n",
      "  (1169, 1)\t1.0\n",
      "  (1170, 1)\t1.0\n",
      "  (1171, 1)\t1.0\n",
      "  (1172, 1)\t1.0\n",
      "  (1173, 1)\t1.0\n",
      "  (1174, 2)\t1.0\n",
      "  (1175, 2)\t1.0\n",
      "[[ 0.  0.  1.]\n",
      " [ 0.  1.  0.]\n",
      " [ 0.  1.  0.]\n",
      " ..., \n",
      " [ 0.  1.  0.]\n",
      " [ 0.  0.  1.]\n",
      " [ 0.  0.  1.]]\n"
     ]
    }
   ],
   "source": [
    "encoder = OneHotEncoder()\n",
    "cat_data_onehot = encoder.fit_transform(cat_data_encoded.reshape(-1,1))\n",
    "print(cat_data_onehot) # SciPy sparse matrix that saves space when lots of zeros in a matrix\n",
    "print(cat_data_onehot.toarray()) # Converts to actual np.array"
   ]
  },
  {
   "cell_type": "code",
   "execution_count": 117,
   "metadata": {},
   "outputs": [
    {
     "name": "stdout",
     "output_type": "stream",
     "text": [
      "  (0, 5)\t1\n",
      "  (0, 6)\t1\n",
      "  (0, 10)\t1\n",
      "  (0, 8)\t1\n",
      "  (0, 16)\t1\n",
      "  (1, 6)\t1\n",
      "  (1, 10)\t1\n",
      "  (1, 8)\t1\n",
      "  (1, 16)\t1\n",
      "  (1, 4)\t1\n",
      "  (1, 15)\t1\n",
      "  (1, 7)\t1\n",
      "  (1, 9)\t1\n",
      "  (1, 0)\t1\n",
      "  (1, 1)\t1\n",
      "  (1, 2)\t1\n",
      "  (1, 19)\t1\n",
      "  (1, 13)\t1\n",
      "  (1, 14)\t1\n",
      "  (1, 11)\t1\n",
      "  (1, 12)\t1\n",
      "  (1, 17)\t1\n",
      "  (2, 6)\t1\n",
      "  (2, 10)\t1\n",
      "  (2, 8)\t1\n",
      "  :\t:\n",
      "  (1173, 8)\t1\n",
      "  (1173, 16)\t1\n",
      "  (1173, 4)\t1\n",
      "  (1173, 15)\t1\n",
      "  (1173, 7)\t1\n",
      "  (1173, 9)\t1\n",
      "  (1173, 0)\t1\n",
      "  (1173, 1)\t1\n",
      "  (1173, 2)\t1\n",
      "  (1173, 19)\t1\n",
      "  (1173, 13)\t1\n",
      "  (1173, 14)\t1\n",
      "  (1173, 11)\t1\n",
      "  (1173, 12)\t1\n",
      "  (1173, 17)\t1\n",
      "  (1174, 5)\t1\n",
      "  (1174, 6)\t1\n",
      "  (1174, 10)\t1\n",
      "  (1174, 8)\t1\n",
      "  (1174, 16)\t1\n",
      "  (1175, 5)\t1\n",
      "  (1175, 6)\t1\n",
      "  (1175, 10)\t1\n",
      "  (1175, 8)\t1\n",
      "  (1175, 16)\t1\n",
      "[[0 0 0 ..., 0 0 0]\n",
      " [1 1 1 ..., 1 0 1]\n",
      " [1 1 1 ..., 1 0 1]\n",
      " ..., \n",
      " [1 1 1 ..., 1 0 1]\n",
      " [0 0 0 ..., 0 0 0]\n",
      " [0 0 0 ..., 0 0 0]]\n"
     ]
    }
   ],
   "source": [
    "from sklearn.preprocessing import MultiLabelBinarizer\n",
    "\n",
    "encoder = MultiLabelBinarizer(sparse_output=True) # Sparse output returns a SciPy sparse matrix if True\n",
    "cat_data_onehot = encoder.fit_transform(cat_data)\n",
    "print(cat_data_onehot)\n",
    "print(cat_data_onehot.toarray())"
   ]
  },
  {
   "cell_type": "markdown",
   "metadata": {},
   "source": [
    "### Custom Transformers"
   ]
  },
  {
   "cell_type": "code",
   "execution_count": 118,
   "metadata": {
    "collapsed": true
   },
   "outputs": [],
   "source": [
    "from sklearn.base import BaseEstimator, TransformerMixin\n",
    "\n",
    "hourlyrate_ix, monthlyincome_ix = 10, 15\n",
    "\n",
    "class CombinedAttributesAdder(BaseEstimator, TransformerMixin):\n",
    "    def __init__(self, add_hours_worked = True): # no *args or **kargs\n",
    "        self.add_hours_worked = add_hours_worked\n",
    "    def fit(self, X, y=None):\n",
    "        return self # nothing else to do because we're just adding a column with this adder\n",
    "    def transform(self, X, y=None):\n",
    "        hours_worked = X[:,monthlyincome_ix] / X[:,hourlyrate_ix]\n",
    "        if self.add_hours_worked:\n",
    "            return np.c_[X, hours_worked]\n",
    "        else:\n",
    "            return np.c_[X]"
   ]
  },
  {
   "cell_type": "code",
   "execution_count": 119,
   "metadata": {},
   "outputs": [
    {
     "name": "stdout",
     "output_type": "stream",
     "text": [
      "[[20 'Travel_Rarely' 727 ..., 2 0 2]\n",
      " [40 'Travel_Frequently' 902 ..., 1 0 0]\n",
      " [33 'Travel_Rarely' 213 ..., 9 3 7]\n",
      " ..., \n",
      " [44 'Travel_Rarely' 477 ..., 6 5 17]\n",
      " [19 'Travel_Rarely' 419 ..., 0 0 0]\n",
      " [60 'Travel_Frequently' 1499 ..., 13 13 11]] \n",
      "\n",
      "\n",
      "[[20 'Travel_Rarely' 727 ..., 0 2 50.51851851851852]\n",
      " [40 'Travel_Frequently' 902 ..., 0 0 48.06521739130435]\n",
      " [33 'Travel_Rarely' 213 ..., 3 7 238.59183673469389]\n",
      " ..., \n",
      " [44 'Travel_Rarely' 477 ..., 5 17 244.0]\n",
      " [19 'Travel_Rarely' 419 ..., 0 0 57.32432432432432]\n",
      " [60 'Travel_Frequently' 1499 ..., 13 11 128.325]]\n"
     ]
    }
   ],
   "source": [
    "attr_adder = CombinedAttributesAdder(add_hours_worked=True)\n",
    "predictors_extra_attribs = attr_adder.transform(predictors.values)\n",
    "print(predictors.values,'\\n\\n')\n",
    "print(predictors_extra_attribs)"
   ]
  },
  {
   "cell_type": "markdown",
   "metadata": {},
   "source": [
    "### Feature Scaling"
   ]
  },
  {
   "cell_type": "code",
   "execution_count": 120,
   "metadata": {},
   "outputs": [
    {
     "name": "stdout",
     "output_type": "stream",
     "text": [
      "[2 0 7 ..., 17 0 11] \n",
      "\n",
      "\n",
      "[[ 0.11764706]\n",
      " [ 0.        ]\n",
      " [ 0.41176471]\n",
      " ..., \n",
      " [ 1.        ]\n",
      " [ 0.        ]\n",
      " [ 0.64705882]]\n"
     ]
    },
    {
     "name": "stderr",
     "output_type": "stream",
     "text": [
      "C:\\Users\\Public\\Anaconda3\\lib\\site-packages\\sklearn\\utils\\validation.py:429: DataConversionWarning: Data with input dtype object was converted to float64 by MinMaxScaler.\n",
      "  warnings.warn(msg, _DataConversionWarning)\n"
     ]
    }
   ],
   "source": [
    "from sklearn.preprocessing import MinMaxScaler, StandardScaler\n",
    "\n",
    "print(predictors.values[:,-1],'\\n\\n')\n",
    "scaler = MinMaxScaler()\n",
    "print(scaler.fit_transform(predictors.values[:,-1].reshape(-1,1)))"
   ]
  },
  {
   "cell_type": "code",
   "execution_count": 121,
   "metadata": {},
   "outputs": [
    {
     "name": "stdout",
     "output_type": "stream",
     "text": [
      "[2 0 7 ..., 17 0 11] \n",
      "\n",
      "\n",
      "[[-0.58585786]\n",
      " [-1.14920115]\n",
      " [ 0.82250037]\n",
      " ..., \n",
      " [ 3.63921682]\n",
      " [-1.14920115]\n",
      " [ 1.94918695]]\n"
     ]
    },
    {
     "name": "stderr",
     "output_type": "stream",
     "text": [
      "C:\\Users\\Public\\Anaconda3\\lib\\site-packages\\sklearn\\utils\\validation.py:429: DataConversionWarning: Data with input dtype object was converted to float64 by StandardScaler.\n",
      "  warnings.warn(msg, _DataConversionWarning)\n"
     ]
    }
   ],
   "source": [
    "print(predictors.values[:,-1],'\\n\\n')\n",
    "scaler = StandardScaler()\n",
    "print(scaler.fit_transform(predictors.values[:,-1].reshape(-1,1)))"
   ]
  },
  {
   "cell_type": "markdown",
   "metadata": {},
   "source": [
    "### Transformation Pipelines"
   ]
  },
  {
   "cell_type": "code",
   "execution_count": 122,
   "metadata": {},
   "outputs": [],
   "source": [
    "from sklearn.pipeline import Pipeline\n",
    "from sklearn.preprocessing import StandardScaler\n",
    "\n",
    "class DataFrameSelector(BaseEstimator, TransformerMixin):\n",
    "    def __init__(self, attribute_names):\n",
    "        self.attribute_names = attribute_names\n",
    "    def fit(self, X, y=None):\n",
    "        return self\n",
    "    def transform(self, X):\n",
    "        return X[self.attribute_names].values\n",
    "\n",
    "class MyBinarizer(BaseEstimator, TransformerMixin):\n",
    "    def __init__(self, attribute_names):\n",
    "        self.attribute_names = attribute_names\n",
    "    def fit(self, X, y=None):\n",
    "        return self\n",
    "    def transform(self, X):\n",
    "        return pd.get_dummies(X, columns = self.attribute_names)\n",
    "    \n",
    "num_attribs = list(predictors.drop(['BusinessTravel','Department','EducationField',\n",
    "                               'Gender','JobRole','MaritalStatus','OverTime'],axis=1).columns)\n",
    "cat_attribs = ['BusinessTravel','Department','EducationField',\n",
    "               'Gender','JobRole','MaritalStatus','OverTime']\n",
    "    \n",
    "num_pipeline = Pipeline([\n",
    "    ('selector', DataFrameSelector(num_attribs)),\n",
    "    ('attribs_adder', CombinedAttributesAdder()),\n",
    "    ('imputer', Imputer(strategy='median')),\n",
    "    ('std_scaler', StandardScaler()),\n",
    "])\n",
    "cat_pipeline = Pipeline([\n",
    "    ('binarizer', MyBinarizer(cat_attribs)),\n",
    "])"
   ]
  },
  {
   "cell_type": "code",
   "execution_count": 123,
   "metadata": {
    "collapsed": true
   },
   "outputs": [],
   "source": [
    "from sklearn.pipeline import FeatureUnion\n",
    "\n",
    "full_pipeline = FeatureUnion(transformer_list=[\n",
    "    ('num_pipeline', num_pipeline),\n",
    "    ('cat_pipeline', cat_pipeline),\n",
    "])"
   ]
  },
  {
   "cell_type": "code",
   "execution_count": 124,
   "metadata": {},
   "outputs": [
    {
     "name": "stdout",
     "output_type": "stream",
     "text": [
      "[[-1.86183257 -0.18950701 -0.02043906 ...,  1.          1.          0.        ]\n",
      " [ 0.3382429   0.24616562  2.08583815 ...,  0.          0.          1.        ]\n",
      " [-0.43178352 -1.46913978 -0.26823638 ...,  0.          1.          0.        ]\n",
      " ..., \n",
      " [ 0.77825799 -0.81189649 -0.26823638 ...,  0.          1.          0.        ]\n",
      " [-1.97183635 -0.95629085  1.46634485 ...,  1.          0.          1.        ]\n",
      " [ 2.53831836  1.7324317   2.33363547 ...,  0.          1.          0.        ]]\n",
      "(1176, 75)\n"
     ]
    }
   ],
   "source": [
    "predictors_prepared = full_pipeline.fit_transform(predictors)\n",
    "print(predictors_prepared)\n",
    "print(predictors_prepared.shape)"
   ]
  },
  {
   "cell_type": "code",
   "execution_count": 152,
   "metadata": {},
   "outputs": [],
   "source": [
    "target_prepared = pd.DataFrame([1 if sample ==  'Yes' else 0 for sample in target],columns=['Attrition'])\n",
    "target_prepared = target_prepared.values.reshape(-1,)"
   ]
  },
  {
   "cell_type": "markdown",
   "metadata": {},
   "source": [
    "    Question: How do you find the label names?"
   ]
  },
  {
   "cell_type": "markdown",
   "metadata": {},
   "source": [
    "## Part 5: Models, Models Everywhere (i.e. Selecting and Training a Model)"
   ]
  },
  {
   "cell_type": "code",
   "execution_count": 155,
   "metadata": {},
   "outputs": [
    {
     "data": {
      "text/plain": [
       "SGDClassifier(alpha=0.0001, average=False, class_weight=None, epsilon=0.1,\n",
       "       eta0=0.0, fit_intercept=True, l1_ratio=0.15,\n",
       "       learning_rate='optimal', loss='hinge', n_iter=5, n_jobs=1,\n",
       "       penalty='l2', power_t=0.5, random_state=42, shuffle=True, verbose=0,\n",
       "       warm_start=False)"
      ]
     },
     "execution_count": 155,
     "metadata": {},
     "output_type": "execute_result"
    }
   ],
   "source": [
    "from sklearn.linear_model import SGDClassifier\n",
    "\n",
    "sgd_clf = SGDClassifier(random_state=42)\n",
    "sgd_clf.fit(predictors_prepared,target_prepared)"
   ]
  },
  {
   "cell_type": "code",
   "execution_count": 156,
   "metadata": {},
   "outputs": [
    {
     "data": {
      "text/plain": [
       "array([ 0.84223919,  0.83163265,  0.84398977])"
      ]
     },
     "execution_count": 156,
     "metadata": {},
     "output_type": "execute_result"
    }
   ],
   "source": [
    "from sklearn.model_selection import cross_val_score\n",
    "\n",
    "cross_val_score(sgd_clf, predictors_prepared, target_prepared, cv=3, scoring='accuracy')"
   ]
  },
  {
   "cell_type": "code",
   "execution_count": 160,
   "metadata": {},
   "outputs": [
    {
     "data": {
      "text/plain": [
       "0.84353741496598644"
      ]
     },
     "execution_count": 160,
     "metadata": {},
     "output_type": "execute_result"
    }
   ],
   "source": [
    "# Seems great, but a really dumb classifier that just placed everything as 0 would have \n",
    "# an equally high 'accuracy'! This is why we don't usually use accuracy\n",
    "1 - sum(target_prepared) / len(target_prepared)"
   ]
  },
  {
   "cell_type": "code",
   "execution_count": 161,
   "metadata": {},
   "outputs": [],
   "source": [
    "# Get predictions by CV models that never saw the data they predicted on\n",
    "from sklearn.model_selection import cross_val_predict\n",
    "\n",
    "y_train_pred = cross_val_predict(sgd_clf, predictors_prepared, target_prepared, cv=3)"
   ]
  },
  {
   "cell_type": "code",
   "execution_count": 162,
   "metadata": {},
   "outputs": [
    {
     "data": {
      "text/plain": [
       "array([[987,   5],\n",
       "       [184,   0]])"
      ]
     },
     "execution_count": 162,
     "metadata": {},
     "output_type": "execute_result"
    }
   ],
   "source": [
    "from sklearn.metrics import confusion_matrix\n",
    "\n",
    "# True Negatives, False Positives\n",
    "# False Negatives, True Positives\n",
    "confusion_matrix(target_prepared, y_train_pred)"
   ]
  },
  {
   "cell_type": "code",
   "execution_count": null,
   "metadata": {
    "collapsed": true
   },
   "outputs": [],
   "source": []
  }
 ],
 "metadata": {
  "kernelspec": {
   "display_name": "Python 3",
   "language": "python",
   "name": "python3"
  },
  "language_info": {
   "codemirror_mode": {
    "name": "ipython",
    "version": 3
   },
   "file_extension": ".py",
   "mimetype": "text/x-python",
   "name": "python",
   "nbconvert_exporter": "python",
   "pygments_lexer": "ipython3",
   "version": "3.6.0"
  }
 },
 "nbformat": 4,
 "nbformat_minor": 2
}
