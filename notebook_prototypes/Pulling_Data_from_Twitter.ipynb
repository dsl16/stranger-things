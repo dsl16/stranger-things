{
 "cells": [
  {
   "cell_type": "code",
   "execution_count": 3,
   "metadata": {
    "collapsed": true
   },
   "outputs": [],
   "source": [
    "import json"
   ]
  },
  {
   "cell_type": "code",
   "execution_count": 4,
   "metadata": {},
   "outputs": [],
   "source": [
    "# You don't want to show everyone your passwords,\n",
    "# so saving them in a file, then uploading the \n",
    "# file is an easy way to provide privacy in your\n",
    "# scripts.\n",
    "\n",
    "with open('credentials.json','r') as f:\n",
    "    credentials = json.load(f)\n",
    "consumer_key    = credentials['twitter_consumer_key']\n",
    "consumer_secret = credentials['twitter_consumer_secret']\n",
    "access_token    = credentials['twitter_access_token']\n",
    "access_secret   = credentials['twitter_access_secret']"
   ]
  },
  {
   "cell_type": "markdown",
   "metadata": {},
   "source": [
    "This example uses the public search function to pull any statuses with the keywords 'data science'. However, as it pulls a random assortment of recent results, this isn't usually super useful."
   ]
  },
  {
   "cell_type": "code",
   "execution_count": 5,
   "metadata": {},
   "outputs": [
    {
     "name": "stdout",
     "output_type": "stream",
     "text": [
      "b'_digitalfutures' : b'RT @7wData: Big data, #datascience and #machinelearning explained\\nhttps://t.co/es7Bqg5sVD https://t.co/yFhaoqc4te'\n",
      "\n",
      "b'BluePi_In' : b'RT @ManjeetRege: How #Cloud Will Elevate #DataScience Teams https://t.co/2sXzKHynU1 #DataScientist #BigData #IoT #IIoT #AI #ML #DL #Interne\\xe2\\x80\\xa6'\n",
      "\n",
      "b'7wData' : b'Big data, #datascience and #machinelearning explained\\nhttps://t.co/es7Bqg5sVD https://t.co/yFhaoqc4te'\n",
      "\n",
      "b'itknowingness' : b'RT @YvesMulkers: Big data, #datascience and #machinelearning explained\\nhttps://t.co/icWr6ICusD https://t.co/aRwR8JsXXa'\n",
      "\n",
      "b'YvesMulkers' : b'Big data, #datascience and #machinelearning explained\\nhttps://t.co/icWr6ICusD https://t.co/aRwR8JsXXa'\n",
      "\n",
      "b'akdm_bot' : b'RT @AndySugs: RT:  (RetweetedRajeev)Ranking Popular #DeepLearning Libraries for #DataScience  https://t.co/xaN4Z0Y1BP #Keras #TensorFlow #C\\xe2\\x80\\xa6'\n",
      "\n",
      "b'AndySugs' : b'RT:  (RetweetedRajeev) Ranking Popular #DeepLearning Libraries for #DataScience  https://t.co/xaN4Z0Y1BP #Keras\\xe2\\x80\\xa6 https://t.co/pmgwGDsbaw'\n",
      "\n",
      "b'krisp_news' : b'RT @vboykis: Dream data science/engineering conference agenda https://t.co/qnIY3qicRT'\n",
      "\n",
      "b'ikhavkin' : b'RT @vboykis: Dream data science/engineering conference agenda https://t.co/qnIY3qicRT'\n",
      "\n",
      "b'alevergara78' : b'RT @AndySugs: RT:  (RetweetedRajeev)Ranking Popular #DeepLearning Libraries for #DataScience  https://t.co/xaN4Z0Y1BP #Keras #TensorFlow #C\\xe2\\x80\\xa6'\n",
      "\n",
      "b'AndySugs' : b'RT:  (RetweetedRajeev)Ranking Popular #DeepLearning Libraries for #DataScience  https://t.co/xaN4Z0Y1BP #Keras\\xe2\\x80\\xa6 https://t.co/seCcD2WZ1H'\n",
      "\n",
      "b'IceCapricorn' : b'RT @hichrisfabian: looking forward to connecting #nerdbrains with @UNICEFinnovate and @esaoperations on understanding a world not through b\\xe2\\x80\\xa6'\n",
      "\n",
      "b'JavascriptBot_' : b'Neural Data Science: A Primer With Matlab\\xc2\\xae And Python\\xe2\\x84\\xa2  https://t.co/twwwedpHDs #bootstrap #web #javascriptbot_'\n",
      "\n",
      "b'slpsys' : b'RT @vboykis: Dream data science/engineering conference agenda https://t.co/qnIY3qicRT'\n",
      "\n",
      "b'nekrum' : b'RT @vboykis: Dream data science/engineering conference agenda https://t.co/qnIY3qicRT'\n",
      "\n"
     ]
    }
   ],
   "source": [
    "from twython import Twython\n",
    "\n",
    "twitter = Twython(consumer_key,consumer_secret)\n",
    "\n",
    "for status in twitter.search(q= ' \"data science\" ')[\"statuses\"]:\n",
    "    user = status[\"user\"][\"screen_name\"].encode('utf-8')\n",
    "    text = status[\"text\"].encode('utf-8')\n",
    "    print(user,\":\",text)\n",
    "    print()"
   ]
  },
  {
   "cell_type": "markdown",
   "metadata": {},
   "source": [
    "The example below pulls in the most recent tweets from Twitter's streaming API. In a real example, you would save your data to a file, not append it to a list."
   ]
  },
  {
   "cell_type": "code",
   "execution_count": null,
   "metadata": {},
   "outputs": [],
   "source": [
    "from twython import TwythonStreamer\n",
    "\n",
    "class MyStreamer(TwythonStreamer):\n",
    "    \n",
    "    def on_success(self, data):\n",
    "        \n",
    "        for i in range(20):\n",
    "            # Filters for English tweets\n",
    "            if data['lang'] == 'en':\n",
    "                print(data)\n",
    "        self.disconnect()\n",
    "\n",
    "    def on_error(self, status_code, data):\n",
    "        print(status_code, data)\n",
    "        self.disconnect()\n",
    "        \n",
    "stream = MyStreamer(consumer_key, consumer_secret,\n",
    "                    access_token, access_secret)\n",
    "\n",
    "stream.statuses.filter(track='birdrightsactivist').on_success()\n"
   ]
  },
  {
   "cell_type": "code",
   "execution_count": null,
   "metadata": {
    "collapsed": true
   },
   "outputs": [],
   "source": []
  },
  {
   "cell_type": "code",
   "execution_count": null,
   "metadata": {
    "collapsed": true
   },
   "outputs": [],
   "source": []
  }
 ],
 "metadata": {
  "kernelspec": {
   "display_name": "Python 3",
   "language": "python",
   "name": "python3"
  },
  "language_info": {
   "codemirror_mode": {
    "name": "ipython",
    "version": 3
   },
   "file_extension": ".py",
   "mimetype": "text/x-python",
   "name": "python",
   "nbconvert_exporter": "python",
   "pygments_lexer": "ipython3",
   "version": "3.6.0"
  }
 },
 "nbformat": 4,
 "nbformat_minor": 2
}
