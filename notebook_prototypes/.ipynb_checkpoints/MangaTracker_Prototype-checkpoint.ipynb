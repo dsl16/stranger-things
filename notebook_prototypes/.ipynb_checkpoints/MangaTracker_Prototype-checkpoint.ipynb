{
 "cells": [
  {
   "cell_type": "code",
   "execution_count": 1,
   "metadata": {
    "collapsed": true
   },
   "outputs": [],
   "source": [
    "import requests\n",
    "import pandas as pd\n",
    "from bs4 import BeautifulSoup"
   ]
  },
  {
   "cell_type": "code",
   "execution_count": 92,
   "metadata": {},
   "outputs": [
    {
     "name": "stdout",
     "output_type": "stream",
     "text": [
      "http://www.tenmanga.com/chapter/Kingdom593/1276664/\n",
      "http://www.tenmanga.com/chapter/HardcoreLevelingWarrior144/1283454/\n"
     ]
    }
   ],
   "source": [
    "manga_list = ['http://www.tenmanga.com/book/KINGDOM.html',\n",
    "              'http://www.tenmanga.com/book/Hardcore+Leveling+Warrior']\n",
    "\n",
    "for manga in manga_list:\n",
    "    r = requests.get(manga)\n",
    "    soup = BeautifulSoup(r.text, 'html.parser')\n",
    "\n",
    "    # Add code to extract the manga name\n",
    "    \n",
    "    # Add code to extract the raw list of chapters\n",
    "    chapter_list_raw = soup.find_all('ul',{'class': 'chapter-box'})\n",
    "    \n",
    "    # Send the raw list of chapters to S3\n",
    "    with open('output1.html','w') as file:\n",
    "        file.write(str(chapter_list_raw))\n",
    "    \n",
    "    # Parse for chapter information\n",
    "    manga_names = []; chapter_links = []; chapter_names = []; date_uploads = [] \n",
    "    for chapter in chapter_list_raw[0].find_all('li',{'class':None}):\n",
    "        chapter_links.append(chapter.find('div',{'class': 'chapter-name short'}).a.get('href'))\n",
    "        date_uploads.append(chapter.find('div',{'class': 'add-time page-hidden'}).text)\n",
    "        chapter_name_parts = chapter.find('div',{'class': 'chapter-name short'}).text.split(' ')\n",
    "        if chapter_name_parts[-1].strip()[-3:] == 'new':\n",
    "            chapter_names.append(chapter_name_parts[-1].strip()[:-3])\n",
    "        else:\n",
    "            chapter_names.append(chapter_name_parts[-1])\n",
    "\n",
    "    df = pd.DataFrame({#'manga':manga_names, \n",
    "                       'chapter':chapter_names, \n",
    "                       'date_uploaded':date_uploads, \n",
    "                       'url':chapter_links})"
   ]
  },
  {
   "cell_type": "code",
   "execution_count": 76,
   "metadata": {},
   "outputs": [],
   "source": []
  },
  {
   "cell_type": "code",
   "execution_count": null,
   "metadata": {},
   "outputs": [],
   "source": []
  },
  {
   "cell_type": "code",
   "execution_count": null,
   "metadata": {
    "collapsed": true
   },
   "outputs": [],
   "source": []
  }
 ],
 "metadata": {
  "kernelspec": {
   "display_name": "Python 3",
   "language": "python",
   "name": "python3"
  },
  "language_info": {
   "codemirror_mode": {
    "name": "ipython",
    "version": 3
   },
   "file_extension": ".py",
   "mimetype": "text/x-python",
   "name": "python",
   "nbconvert_exporter": "python",
   "pygments_lexer": "ipython3",
   "version": "3.6.7"
  }
 },
 "nbformat": 4,
 "nbformat_minor": 2
}
