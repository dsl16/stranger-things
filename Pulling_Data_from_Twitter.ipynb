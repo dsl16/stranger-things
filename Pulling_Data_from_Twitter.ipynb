{
 "cells": [
  {
   "cell_type": "code",
   "execution_count": 52,
   "metadata": {
    "collapsed": true
   },
   "outputs": [],
   "source": [
    "import json"
   ]
  },
  {
   "cell_type": "code",
   "execution_count": 53,
   "metadata": {
    "collapsed": true
   },
   "outputs": [],
   "source": [
    "# You don't want to show everyone your passwords,\n",
    "# so saving them in a file, then uploading the \n",
    "# file is an easy way to provide privacy in your\n",
    "# scripts.\n",
    "\n",
    "with open('credentials.json','r') as f:\n",
    "    credentials = json.load(f)\n",
    "consumer_key    = credentials['consumer_key']\n",
    "consumer_secret = credentials['consumer_secret']\n",
    "access_token    = credentials['access_token']\n",
    "access_secret   = credentials['access_secret']"
   ]
  },
  {
   "cell_type": "markdown",
   "metadata": {},
   "source": [
    "This example uses the public search function to pull any statuses with the keywords 'data science'. However, as it pulls a random assortment of recent results, this isn't usually super useful."
   ]
  },
  {
   "cell_type": "code",
   "execution_count": 41,
   "metadata": {},
   "outputs": [
    {
     "name": "stdout",
     "output_type": "stream",
     "text": [
      "b'olive_ashman' : b'RT @VertiAI: What is a #DataScientist? A key data analytics role and a lucrative career https://t.co/oq5kiR7g9s #DataScience #AI #Artificia\\xe2\\x80\\xa6'\n",
      "\n",
      "b'aarezh' : b'RT @VertiAI: What is a #DataScientist? A key data analytics role and a lucrative career https://t.co/oq5kiR7g9s #DataScience #AI #Artificia\\xe2\\x80\\xa6'\n",
      "\n",
      "b'angerame_leslie' : b'RT @VertiAI: What is a #DataScientist? A key data analytics role and a lucrative career https://t.co/oq5kiR7g9s #DataScience #AI #Artificia\\xe2\\x80\\xa6'\n",
      "\n",
      "b'clairebotai' : b'RT @VertiAI: What is a #DataScientist? A key data analytics role and a lucrative career https://t.co/oq5kiR7g9s #DataScience #AI #Artificia\\xe2\\x80\\xa6'\n",
      "\n",
      "b'Billthefreeman' : b'\\xe2\\x80\\x9cUsing Scrapy to Build your Own Dataset\\xe2\\x80\\x9d by @GalarnykMichael https://t.co/6gXxEPByNj'\n",
      "\n",
      "b'syassr' : b'RT @VertiAI: Building a #DataScience team for the enterprise https://t.co/0zcsoG4mas #DataScientist #AI #IoT #IIoT #ArtificialIntelligence\\xe2\\x80\\xa6'\n",
      "\n",
      "b'InsurTechHfd' : b'RT @andi_staub: Interesting #fintech #Insurtech #AI #startup\\n\\nWhat #DataScience Skills Do You Need in a #BigData World?\\n\\n#Statistics https:\\xe2\\x80\\xa6'\n",
      "\n",
      "b'dreammex' : b'RT @VertiAI: What is a #DataScientist? A key data analytics role and a lucrative career https://t.co/oq5kiR7g9s #DataScience #AI #Artificia\\xe2\\x80\\xa6'\n",
      "\n",
      "b'TrevorWWalker' : b'RT @ManjeetRege: #DataScience major, minor likely to be available within academic year https://t.co/ivWRvgs6OS #DataScientist #AI #IoT #IIo\\xe2\\x80\\xa6'\n",
      "\n",
      "b'julekell488' : b'RT @VertiAI: What is a #DataScientist? A key data analytics role and a lucrative career https://t.co/oq5kiR7g9s #DataScience #AI #Artificia\\xe2\\x80\\xa6'\n",
      "\n",
      "b'YidanZhou' : b'RT @ZelrosAI: A new interpretable XGBoost \\nhttps://t.co/HAACwbaBim via @leonardo_noleto https://t.co/PYWq3l6kbm'\n",
      "\n",
      "b'PRCPSDVI' : b'RT @YvesMulkers: Why \\xe2\\x80\\x98Big #Data\\xe2\\x80\\x99 plays a big role in the world of digital #marketing\\nhttps://t.co/NPcWBNQAaM https://t.co/6zMF348rjH'\n",
      "\n"
     ]
    }
   ],
   "source": [
    "from twython import Twython\n",
    "\n",
    "twitter = Twython(consumer_key,consumer_secret)\n",
    "\n",
    "for status in twitter.search(q= ' \"data science\" ')[\"statuses\"]:\n",
    "    user = status[\"user\"][\"screen_name\"].encode('utf-8')\n",
    "    text = status[\"text\"].encode('utf-8')\n",
    "    print(user,\":\",text)\n",
    "    print()"
   ]
  },
  {
   "cell_type": "markdown",
   "metadata": {},
   "source": [
    "The example below pulls in the most recent tweets from Twitter's streaming API. In a real example, you would save your data to a file, not append it to a list."
   ]
  },
  {
   "cell_type": "code",
   "execution_count": 54,
   "metadata": {},
   "outputs": [
    {
     "name": "stdout",
     "output_type": "stream",
     "text": [
      "420 b'Exceeded connection limit for user\\r\\n'\n"
     ]
    }
   ],
   "source": [
    "from twython import TwythonStreamer\n",
    "\n",
    "class MyStreamer(TwythonStreamer):\n",
    "    \n",
    "    def on_success(self, data):\n",
    "        \n",
    "        for i in range(20):\n",
    "            # Filters for English tweets\n",
    "            if data['lang'] == 'en':\n",
    "                print(data)\n",
    "        self.disconnect()\n",
    "\n",
    "    def on_error(self, status_code, data):\n",
    "        print(status_code, data)\n",
    "        self.disconnect()\n",
    "        \n",
    "stream = MyStreamer(consumer_key, consumer_secret,\n",
    "                    access_token, access_secret)\n",
    "\n",
    "stream.statuses.filter(track='birdrightsactivist')"
   ]
  },
  {
   "cell_type": "code",
   "execution_count": null,
   "metadata": {
    "collapsed": true
   },
   "outputs": [],
   "source": []
  },
  {
   "cell_type": "code",
   "execution_count": null,
   "metadata": {
    "collapsed": true
   },
   "outputs": [],
   "source": []
  }
 ],
 "metadata": {
  "kernelspec": {
   "display_name": "Python 3",
   "language": "python",
   "name": "python3"
  },
  "language_info": {
   "codemirror_mode": {
    "name": "ipython",
    "version": 3
   },
   "file_extension": ".py",
   "mimetype": "text/x-python",
   "name": "python",
   "nbconvert_exporter": "python",
   "pygments_lexer": "ipython3",
   "version": "3.6.0"
  }
 },
 "nbformat": 4,
 "nbformat_minor": 2
}
